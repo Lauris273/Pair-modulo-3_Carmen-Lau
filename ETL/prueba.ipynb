{
 "cells": [
  {
   "cell_type": "markdown",
   "id": "e504eafc",
   "metadata": {},
   "source": [
    "\n",
    "Lectura de la Información:\n",
    "\n",
    "- Leer los archivos CSV (ventas.csv, productos.csv, clientes.csv).\n",
    "- Explorar los conjuntos de datos para comprender su estructura, columnas, tipos de datos, etc.\n",
    "\n",
    "Transformación de Datos:\n",
    "\n",
    "- Limpiar los datos: manejar valores nulos, eliminar duplicados si los hay, corregir errores tipográficos, etc.\n",
    "- Realizar la integración de datos: unir los conjuntos de datos apropiados para obtener una tabla única que contenga información de ventas junto con detalles de productos y clientes.\n",
    "- Aplicar transformaciones relevantes según sea necesario: por ejemplo, convertir tipos de datos, renombrar columnas, crear nuevas características derivadas, etc."
   ]
  },
  {
   "cell_type": "code",
   "execution_count": 3,
   "id": "c94c4b4d",
   "metadata": {},
   "outputs": [],
   "source": [
    "import pandas as pd\n",
    "import numpy as np\n",
    "pd.set_option('display.max_columns', None)"
   ]
  },
  {
   "cell_type": "code",
   "execution_count": 4,
   "id": "f32f4582",
   "metadata": {},
   "outputs": [
    {
     "data": {
      "text/html": [
       "<div>\n",
       "<style scoped>\n",
       "    .dataframe tbody tr th:only-of-type {\n",
       "        vertical-align: middle;\n",
       "    }\n",
       "\n",
       "    .dataframe tbody tr th {\n",
       "        vertical-align: top;\n",
       "    }\n",
       "\n",
       "    .dataframe thead th {\n",
       "        text-align: right;\n",
       "    }\n",
       "</style>\n",
       "<table border=\"1\" class=\"dataframe\">\n",
       "  <thead>\n",
       "    <tr style=\"text-align: right;\">\n",
       "      <th></th>\n",
       "      <th>first_name</th>\n",
       "      <th>last_name</th>\n",
       "      <th>email</th>\n",
       "      <th>gender</th>\n",
       "      <th>City</th>\n",
       "      <th>Country</th>\n",
       "      <th>Address</th>\n",
       "    </tr>\n",
       "    <tr>\n",
       "      <th>id</th>\n",
       "      <th></th>\n",
       "      <th></th>\n",
       "      <th></th>\n",
       "      <th></th>\n",
       "      <th></th>\n",
       "      <th></th>\n",
       "      <th></th>\n",
       "    </tr>\n",
       "  </thead>\n",
       "  <tbody>\n",
       "    <tr>\n",
       "      <th>996</th>\n",
       "      <td>Ray</td>\n",
       "      <td>Tarpey</td>\n",
       "      <td>rtarpeyrn@bravesites.com</td>\n",
       "      <td>Female</td>\n",
       "      <td>Zamora</td>\n",
       "      <td>Spain</td>\n",
       "      <td>36384 Sommers Terrace</td>\n",
       "    </tr>\n",
       "    <tr>\n",
       "      <th>997</th>\n",
       "      <td>Flem</td>\n",
       "      <td>Roderham</td>\n",
       "      <td>froderhamro@dropbox.com</td>\n",
       "      <td>Male</td>\n",
       "      <td>Pontevedra</td>\n",
       "      <td>Spain</td>\n",
       "      <td>93177 Eastwood Parkway</td>\n",
       "    </tr>\n",
       "    <tr>\n",
       "      <th>998</th>\n",
       "      <td>Winifield</td>\n",
       "      <td>Blakes</td>\n",
       "      <td>wblakesrp@jiathis.com</td>\n",
       "      <td>Male</td>\n",
       "      <td>Vigo</td>\n",
       "      <td>Spain</td>\n",
       "      <td>03044 Grayhawk Road</td>\n",
       "    </tr>\n",
       "    <tr>\n",
       "      <th>999</th>\n",
       "      <td>Lanita</td>\n",
       "      <td>Espinosa</td>\n",
       "      <td>lespinosarq@discuz.net</td>\n",
       "      <td>Female</td>\n",
       "      <td>Dos Hermanas</td>\n",
       "      <td>Spain</td>\n",
       "      <td>2 Schmedeman Drive</td>\n",
       "    </tr>\n",
       "    <tr>\n",
       "      <th>1000</th>\n",
       "      <td>Grissel</td>\n",
       "      <td>Siberry</td>\n",
       "      <td>gsiberryrr@wikispaces.com</td>\n",
       "      <td>Female</td>\n",
       "      <td>Leon</td>\n",
       "      <td>Spain</td>\n",
       "      <td>42274 Waywood Terrace</td>\n",
       "    </tr>\n",
       "  </tbody>\n",
       "</table>\n",
       "</div>"
      ],
      "text/plain": [
       "     first_name last_name                      email  gender          City  \\\n",
       "id                                                                           \n",
       "996         Ray    Tarpey   rtarpeyrn@bravesites.com  Female        Zamora   \n",
       "997        Flem  Roderham    froderhamro@dropbox.com    Male    Pontevedra   \n",
       "998   Winifield    Blakes      wblakesrp@jiathis.com    Male          Vigo   \n",
       "999      Lanita  Espinosa     lespinosarq@discuz.net  Female  Dos Hermanas   \n",
       "1000    Grissel   Siberry  gsiberryrr@wikispaces.com  Female          Leon   \n",
       "\n",
       "     Country                 Address  \n",
       "id                                    \n",
       "996    Spain   36384 Sommers Terrace  \n",
       "997    Spain  93177 Eastwood Parkway  \n",
       "998    Spain     03044 Grayhawk Road  \n",
       "999    Spain      2 Schmedeman Drive  \n",
       "1000   Spain   42274 Waywood Terrace  "
      ]
     },
     "execution_count": 4,
     "metadata": {},
     "output_type": "execute_result"
    }
   ],
   "source": [
    "df_clientes = pd.read_csv(\"files/clientes.csv\", index_col=0)\n",
    "df_clientes.tail()"
   ]
  },
  {
   "cell_type": "code",
   "execution_count": 5,
   "id": "b6080e03",
   "metadata": {},
   "outputs": [
    {
     "data": {
      "text/html": [
       "<div>\n",
       "<style scoped>\n",
       "    .dataframe tbody tr th:only-of-type {\n",
       "        vertical-align: middle;\n",
       "    }\n",
       "\n",
       "    .dataframe tbody tr th {\n",
       "        vertical-align: top;\n",
       "    }\n",
       "\n",
       "    .dataframe thead th {\n",
       "        text-align: right;\n",
       "    }\n",
       "</style>\n",
       "<table border=\"1\" class=\"dataframe\">\n",
       "  <thead>\n",
       "    <tr style=\"text-align: right;\">\n",
       "      <th></th>\n",
       "      <th>Nombre_Producto</th>\n",
       "      <th>Categoría</th>\n",
       "      <th>Precio</th>\n",
       "      <th>Origen</th>\n",
       "      <th>Descripción</th>\n",
       "    </tr>\n",
       "    <tr>\n",
       "      <th>ID</th>\n",
       "      <th></th>\n",
       "      <th></th>\n",
       "      <th></th>\n",
       "      <th></th>\n",
       "      <th></th>\n",
       "    </tr>\n",
       "  </thead>\n",
       "  <tbody>\n",
       "    <tr>\n",
       "      <th>A1</th>\n",
       "      <td>Pizza Margherita</td>\n",
       "      <td>Platos Preparados</td>\n",
       "      <td>8.99</td>\n",
       "      <td>Italia</td>\n",
       "      <td>Clásica pizza italiana con tomate mozzarella f...</td>\n",
       "    </tr>\n",
       "    <tr>\n",
       "      <th>B2</th>\n",
       "      <td>Risotto de Champiñones</td>\n",
       "      <td>Platos Preparados</td>\n",
       "      <td>6.75</td>\n",
       "      <td>Italia</td>\n",
       "      <td>Risotto cremoso con champiñones frescos una de...</td>\n",
       "    </tr>\n",
       "    <tr>\n",
       "      <th>C3</th>\n",
       "      <td>Tiramisú</td>\n",
       "      <td>Postres</td>\n",
       "      <td>5.49</td>\n",
       "      <td>Italia</td>\n",
       "      <td>Postre clásico italiano con capas de bizcocho ...</td>\n",
       "    </tr>\n",
       "    <tr>\n",
       "      <th>D4</th>\n",
       "      <td>Panettone</td>\n",
       "      <td>Repostería</td>\n",
       "      <td>10.99</td>\n",
       "      <td>Italia</td>\n",
       "      <td>Pan dulce navideño italiano con frutas confita...</td>\n",
       "    </tr>\n",
       "    <tr>\n",
       "      <th>E5</th>\n",
       "      <td>Orecchiette</td>\n",
       "      <td>Productos Secos</td>\n",
       "      <td>4.29</td>\n",
       "      <td>Italia</td>\n",
       "      <td>Pequeñas pastas con forma de orecchiette ideal...</td>\n",
       "    </tr>\n",
       "  </tbody>\n",
       "</table>\n",
       "</div>"
      ],
      "text/plain": [
       "           Nombre_Producto          Categoría  Precio  Origen  \\\n",
       "ID                                                              \n",
       "A1        Pizza Margherita  Platos Preparados    8.99  Italia   \n",
       "B2  Risotto de Champiñones  Platos Preparados    6.75  Italia   \n",
       "C3                Tiramisú            Postres    5.49  Italia   \n",
       "D4               Panettone         Repostería   10.99  Italia   \n",
       "E5             Orecchiette    Productos Secos    4.29  Italia   \n",
       "\n",
       "                                          Descripción  \n",
       "ID                                                     \n",
       "A1  Clásica pizza italiana con tomate mozzarella f...  \n",
       "B2  Risotto cremoso con champiñones frescos una de...  \n",
       "C3  Postre clásico italiano con capas de bizcocho ...  \n",
       "D4  Pan dulce navideño italiano con frutas confita...  \n",
       "E5  Pequeñas pastas con forma de orecchiette ideal...  "
      ]
     },
     "execution_count": 5,
     "metadata": {},
     "output_type": "execute_result"
    }
   ],
   "source": [
    "df_productos = pd.read_csv(\"files/productos.csv\", index_col=0)\n",
    "df_productos.head()"
   ]
  },
  {
   "cell_type": "code",
   "execution_count": 6,
   "id": "73eac24d",
   "metadata": {},
   "outputs": [
    {
     "ename": "IndentationError",
     "evalue": "unexpected indent (4129648587.py, line 2)",
     "output_type": "error",
     "traceback": [
      "  \u001b[36mCell\u001b[39m\u001b[36m \u001b[39m\u001b[32mIn[6]\u001b[39m\u001b[32m, line 2\u001b[39m\n\u001b[31m    \u001b[39m\u001b[31mfor i, line in enumerate(f):\u001b[39m\n    ^\n\u001b[31mIndentationError\u001b[39m\u001b[31m:\u001b[39m unexpected indent\n"
     ]
    }
   ],
   "source": [
    "'''with open(\"files/productos.csv\") as f:'''\n",
    "    for i, line in enumerate(f):\n",
    "        if i == 8:  # Recuerda que en Python la línea 9 es el índice 8\n",
    "            print(f\"Línea 9: {line}\")\n",
    "        else: \n",
    "            print(f\"Línea 8: {line}\")"
   ]
  },
  {
   "cell_type": "code",
   "execution_count": 7,
   "id": "d69a53ed",
   "metadata": {},
   "outputs": [
    {
     "data": {
      "text/html": [
       "<div>\n",
       "<style scoped>\n",
       "    .dataframe tbody tr th:only-of-type {\n",
       "        vertical-align: middle;\n",
       "    }\n",
       "\n",
       "    .dataframe tbody tr th {\n",
       "        vertical-align: top;\n",
       "    }\n",
       "\n",
       "    .dataframe thead th {\n",
       "        text-align: right;\n",
       "    }\n",
       "</style>\n",
       "<table border=\"1\" class=\"dataframe\">\n",
       "  <thead>\n",
       "    <tr style=\"text-align: right;\">\n",
       "      <th></th>\n",
       "      <th>ID_Producto</th>\n",
       "      <th>Fecha_Venta</th>\n",
       "      <th>Cantidad</th>\n",
       "      <th>Total</th>\n",
       "    </tr>\n",
       "    <tr>\n",
       "      <th>ID_Cliente</th>\n",
       "      <th></th>\n",
       "      <th></th>\n",
       "      <th></th>\n",
       "      <th></th>\n",
       "    </tr>\n",
       "  </thead>\n",
       "  <tbody>\n",
       "    <tr>\n",
       "      <th>723</th>\n",
       "      <td>A1</td>\n",
       "      <td>2023-11-22</td>\n",
       "      <td>2</td>\n",
       "      <td>17.98</td>\n",
       "    </tr>\n",
       "    <tr>\n",
       "      <th>498</th>\n",
       "      <td>C3</td>\n",
       "      <td>2023-11-21</td>\n",
       "      <td>1</td>\n",
       "      <td>5.49</td>\n",
       "    </tr>\n",
       "    <tr>\n",
       "      <th>121</th>\n",
       "      <td>D4</td>\n",
       "      <td>2023-11-20</td>\n",
       "      <td>3</td>\n",
       "      <td>32.97</td>\n",
       "    </tr>\n",
       "    <tr>\n",
       "      <th>885</th>\n",
       "      <td>L12</td>\n",
       "      <td>2023-11-19</td>\n",
       "      <td>1</td>\n",
       "      <td>6.49</td>\n",
       "    </tr>\n",
       "    <tr>\n",
       "      <th>347</th>\n",
       "      <td>Q17</td>\n",
       "      <td>2023-11-18</td>\n",
       "      <td>2</td>\n",
       "      <td>7.98</td>\n",
       "    </tr>\n",
       "  </tbody>\n",
       "</table>\n",
       "</div>"
      ],
      "text/plain": [
       "           ID_Producto Fecha_Venta  Cantidad  Total\n",
       "ID_Cliente                                         \n",
       "723                 A1  2023-11-22         2  17.98\n",
       "498                 C3  2023-11-21         1   5.49\n",
       "121                 D4  2023-11-20         3  32.97\n",
       "885                L12  2023-11-19         1   6.49\n",
       "347                Q17  2023-11-18         2   7.98"
      ]
     },
     "execution_count": 7,
     "metadata": {},
     "output_type": "execute_result"
    }
   ],
   "source": [
    "df_ventas = pd.read_csv(\"files/ventas.csv\", index_col=0)\n",
    "df_ventas.head()"
   ]
  },
  {
   "cell_type": "markdown",
   "id": "62986d70",
   "metadata": {},
   "source": [
    "- Op1. Ignorar filas problemáticas (no recomendado para producción):\n",
    "df = pd.read_csv(\"tuarchivo.csv\", error_bad_lines=False) - \n",
    "\n",
    "- Op2. Manejar comillas correctamente\n",
    "Si hay campos de texto que contienen comas, asegúrate de que estén entre comillas. Puedes indicarle eso a Pandas:\n",
    "df = pd.read_csv(\"tuarchivo.csv\", quotechar='\"') - \n",
    "\n",
    "- Op3. Para depurar desde Python\n",
    "Puedes imprimir solo la línea 9 así:\n",
    "with open(\"tuarchivo.csv\") as f:\n",
    "    for i, line in enumerate(f):\n",
    "        if i == 8:  # Recuerda que en Python la línea 9 es el índice 8\n",
    "            print(f\"Línea 9: {line}\")\n",
    "\n",
    "\n",
    "\n"
   ]
  },
  {
   "cell_type": "code",
   "execution_count": 20,
   "id": "113cb1b9",
   "metadata": {},
   "outputs": [
    {
     "data": {
      "text/plain": [
       "np.int64(0)"
      ]
     },
     "execution_count": 20,
     "metadata": {},
     "output_type": "execute_result"
    }
   ],
   "source": [
    "df_ventas.duplicated().sum()"
   ]
  },
  {
   "cell_type": "code",
   "execution_count": 8,
   "id": "457d2300",
   "metadata": {},
   "outputs": [
    {
     "data": {
      "text/plain": [
       "(1000, 7)"
      ]
     },
     "execution_count": 8,
     "metadata": {},
     "output_type": "execute_result"
    }
   ],
   "source": [
    "df_clientes.shape"
   ]
  },
  {
   "cell_type": "code",
   "execution_count": 9,
   "id": "31e9c9ee",
   "metadata": {},
   "outputs": [
    {
     "name": "stdout",
     "output_type": "stream",
     "text": [
      "<class 'pandas.core.frame.DataFrame'>\n",
      "Index: 1000 entries, 1 to 1000\n",
      "Data columns (total 7 columns):\n",
      " #   Column      Non-Null Count  Dtype \n",
      "---  ------      --------------  ----- \n",
      " 0   first_name  1000 non-null   object\n",
      " 1   last_name   1000 non-null   object\n",
      " 2   email       973 non-null    object\n",
      " 3   gender      923 non-null    object\n",
      " 4   City        876 non-null    object\n",
      " 5   Country     846 non-null    object\n",
      " 6   Address     959 non-null    object\n",
      "dtypes: object(7)\n",
      "memory usage: 62.5+ KB\n"
     ]
    }
   ],
   "source": [
    "df_clientes.info()"
   ]
  },
  {
   "cell_type": "code",
   "execution_count": 10,
   "id": "95c72b27",
   "metadata": {},
   "outputs": [
    {
     "data": {
      "text/plain": [
       "np.int64(0)"
      ]
     },
     "execution_count": 10,
     "metadata": {},
     "output_type": "execute_result"
    }
   ],
   "source": [
    "df_clientes.duplicated().sum()"
   ]
  },
  {
   "cell_type": "code",
   "execution_count": 11,
   "id": "5db05d03",
   "metadata": {},
   "outputs": [
    {
     "data": {
      "text/plain": [
       "(33, 5)"
      ]
     },
     "execution_count": 11,
     "metadata": {},
     "output_type": "execute_result"
    }
   ],
   "source": [
    "df_productos.shape"
   ]
  },
  {
   "cell_type": "code",
   "execution_count": 12,
   "id": "cc082103",
   "metadata": {},
   "outputs": [
    {
     "name": "stdout",
     "output_type": "stream",
     "text": [
      "<class 'pandas.core.frame.DataFrame'>\n",
      "Index: 33 entries, A1 to GG33\n",
      "Data columns (total 5 columns):\n",
      " #   Column           Non-Null Count  Dtype  \n",
      "---  ------           --------------  -----  \n",
      " 0   Nombre_Producto  33 non-null     object \n",
      " 1   Categoría        33 non-null     object \n",
      " 2   Precio           33 non-null     float64\n",
      " 3   Origen           33 non-null     object \n",
      " 4   Descripción      33 non-null     object \n",
      "dtypes: float64(1), object(4)\n",
      "memory usage: 1.5+ KB\n"
     ]
    }
   ],
   "source": [
    "df_productos.info()"
   ]
  },
  {
   "cell_type": "code",
   "execution_count": 21,
   "id": "158c3183",
   "metadata": {},
   "outputs": [
    {
     "data": {
      "text/plain": [
       "np.int64(0)"
      ]
     },
     "execution_count": 21,
     "metadata": {},
     "output_type": "execute_result"
    }
   ],
   "source": [
    "df_productos.duplicated().sum()"
   ]
  },
  {
   "cell_type": "code",
   "execution_count": 13,
   "id": "97cebffa",
   "metadata": {},
   "outputs": [
    {
     "name": "stdout",
     "output_type": "stream",
     "text": [
      "<class 'pandas.core.frame.DataFrame'>\n",
      "Index: 100 entries, 723 to 987\n",
      "Data columns (total 4 columns):\n",
      " #   Column       Non-Null Count  Dtype  \n",
      "---  ------       --------------  -----  \n",
      " 0   ID_Producto  100 non-null    object \n",
      " 1   Fecha_Venta  100 non-null    object \n",
      " 2   Cantidad     100 non-null    int64  \n",
      " 3   Total        100 non-null    float64\n",
      "dtypes: float64(1), int64(1), object(2)\n",
      "memory usage: 3.9+ KB\n"
     ]
    }
   ],
   "source": [
    "df_ventas.info()"
   ]
  },
  {
   "cell_type": "code",
   "execution_count": 22,
   "id": "1518d110",
   "metadata": {},
   "outputs": [
    {
     "data": {
      "text/plain": [
       "np.int64(0)"
      ]
     },
     "execution_count": 22,
     "metadata": {},
     "output_type": "execute_result"
    }
   ],
   "source": [
    "df_ventas.duplicated().sum()"
   ]
  },
  {
   "cell_type": "code",
   "execution_count": 14,
   "id": "b3ac3143",
   "metadata": {},
   "outputs": [
    {
     "data": {
      "text/plain": [
       "(100, 4)"
      ]
     },
     "execution_count": 14,
     "metadata": {},
     "output_type": "execute_result"
    }
   ],
   "source": [
    "df_ventas.shape"
   ]
  },
  {
   "cell_type": "code",
   "execution_count": 26,
   "id": "a2c2a4cd",
   "metadata": {},
   "outputs": [
    {
     "data": {
      "text/html": [
       "<div>\n",
       "<style scoped>\n",
       "    .dataframe tbody tr th:only-of-type {\n",
       "        vertical-align: middle;\n",
       "    }\n",
       "\n",
       "    .dataframe tbody tr th {\n",
       "        vertical-align: top;\n",
       "    }\n",
       "\n",
       "    .dataframe thead th {\n",
       "        text-align: right;\n",
       "    }\n",
       "</style>\n",
       "<table border=\"1\" class=\"dataframe\">\n",
       "  <thead>\n",
       "    <tr style=\"text-align: right;\">\n",
       "      <th></th>\n",
       "      <th>first_name</th>\n",
       "      <th>last_name</th>\n",
       "      <th>email</th>\n",
       "      <th>gender</th>\n",
       "      <th>City</th>\n",
       "      <th>Country</th>\n",
       "      <th>Address</th>\n",
       "      <th>ID_Producto</th>\n",
       "      <th>Fecha_Venta</th>\n",
       "      <th>Cantidad</th>\n",
       "      <th>Total</th>\n",
       "    </tr>\n",
       "  </thead>\n",
       "  <tbody>\n",
       "    <tr>\n",
       "      <th>0</th>\n",
       "      <td>Jere</td>\n",
       "      <td>Bampkin</td>\n",
       "      <td>jbampkins@wunderground.com</td>\n",
       "      <td>Male</td>\n",
       "      <td>Jaen</td>\n",
       "      <td>Spain</td>\n",
       "      <td>4478 Mockingbird Avenue</td>\n",
       "      <td>Z26</td>\n",
       "      <td>2023-11-14</td>\n",
       "      <td>2</td>\n",
       "      <td>14.98</td>\n",
       "    </tr>\n",
       "    <tr>\n",
       "      <th>1</th>\n",
       "      <td>Wye</td>\n",
       "      <td>Sinncock</td>\n",
       "      <td>wsinncock3c@fc2.com</td>\n",
       "      <td>Male</td>\n",
       "      <td>Santander</td>\n",
       "      <td>NaN</td>\n",
       "      <td>4679 Fair Oaks Trail</td>\n",
       "      <td>D4</td>\n",
       "      <td>2023-11-20</td>\n",
       "      <td>3</td>\n",
       "      <td>32.97</td>\n",
       "    </tr>\n",
       "    <tr>\n",
       "      <th>2</th>\n",
       "      <td>Noreen</td>\n",
       "      <td>Mouncher</td>\n",
       "      <td>nmouncher3e@theguardian.com</td>\n",
       "      <td>Female</td>\n",
       "      <td>Zaragoza</td>\n",
       "      <td>NaN</td>\n",
       "      <td>3 Esker Circle</td>\n",
       "      <td>AF32</td>\n",
       "      <td>2023-11-08</td>\n",
       "      <td>2</td>\n",
       "      <td>9.78</td>\n",
       "    </tr>\n",
       "    <tr>\n",
       "      <th>3</th>\n",
       "      <td>Noreen</td>\n",
       "      <td>Mouncher</td>\n",
       "      <td>nmouncher3e@theguardian.com</td>\n",
       "      <td>Female</td>\n",
       "      <td>Zaragoza</td>\n",
       "      <td>NaN</td>\n",
       "      <td>3 Esker Circle</td>\n",
       "      <td>AU47</td>\n",
       "      <td>2023-10-24</td>\n",
       "      <td>1</td>\n",
       "      <td>5.25</td>\n",
       "    </tr>\n",
       "    <tr>\n",
       "      <th>4</th>\n",
       "      <td>Brigit</td>\n",
       "      <td>Witt</td>\n",
       "      <td>bwitt4p@va.gov</td>\n",
       "      <td>Female</td>\n",
       "      <td>Dos Hermanas</td>\n",
       "      <td>Spain</td>\n",
       "      <td>38 Ohio Point</td>\n",
       "      <td>U21</td>\n",
       "      <td>2023-11-15</td>\n",
       "      <td>1</td>\n",
       "      <td>5.75</td>\n",
       "    </tr>\n",
       "  </tbody>\n",
       "</table>\n",
       "</div>"
      ],
      "text/plain": [
       "  first_name last_name                        email  gender          City  \\\n",
       "0       Jere   Bampkin   jbampkins@wunderground.com    Male          Jaen   \n",
       "1        Wye  Sinncock          wsinncock3c@fc2.com    Male     Santander   \n",
       "2     Noreen  Mouncher  nmouncher3e@theguardian.com  Female      Zaragoza   \n",
       "3     Noreen  Mouncher  nmouncher3e@theguardian.com  Female      Zaragoza   \n",
       "4     Brigit      Witt               bwitt4p@va.gov  Female  Dos Hermanas   \n",
       "\n",
       "  Country                  Address ID_Producto Fecha_Venta  Cantidad  Total  \n",
       "0   Spain  4478 Mockingbird Avenue         Z26  2023-11-14         2  14.98  \n",
       "1     NaN     4679 Fair Oaks Trail          D4  2023-11-20         3  32.97  \n",
       "2     NaN           3 Esker Circle        AF32  2023-11-08         2   9.78  \n",
       "3     NaN           3 Esker Circle        AU47  2023-10-24         1   5.25  \n",
       "4   Spain            38 Ohio Point         U21  2023-11-15         1   5.75  "
      ]
     },
     "execution_count": 26,
     "metadata": {},
     "output_type": "execute_result"
    }
   ],
   "source": [
    "mergeado_inner = df_clientes.merge(df_ventas, left_on='id', right_on = 'ID_Cliente')\n",
    "mergeado_inner.head()"
   ]
  },
  {
   "cell_type": "code",
   "execution_count": 27,
   "id": "f0f8e867",
   "metadata": {},
   "outputs": [
    {
     "name": "stdout",
     "output_type": "stream",
     "text": [
      "<class 'pandas.core.frame.DataFrame'>\n",
      "RangeIndex: 100 entries, 0 to 99\n",
      "Data columns (total 11 columns):\n",
      " #   Column       Non-Null Count  Dtype  \n",
      "---  ------       --------------  -----  \n",
      " 0   first_name   100 non-null    object \n",
      " 1   last_name    100 non-null    object \n",
      " 2   email        100 non-null    object \n",
      " 3   gender       83 non-null     object \n",
      " 4   City         84 non-null     object \n",
      " 5   Country      74 non-null     object \n",
      " 6   Address      100 non-null    object \n",
      " 7   ID_Producto  100 non-null    object \n",
      " 8   Fecha_Venta  100 non-null    object \n",
      " 9   Cantidad     100 non-null    int64  \n",
      " 10  Total        100 non-null    float64\n",
      "dtypes: float64(1), int64(1), object(9)\n",
      "memory usage: 8.7+ KB\n"
     ]
    }
   ],
   "source": [
    "mergeado_inner.info()"
   ]
  },
  {
   "cell_type": "code",
   "execution_count": null,
   "id": "4d1418a3",
   "metadata": {},
   "outputs": [
    {
     "data": {
      "text/html": [
       "<div>\n",
       "<style scoped>\n",
       "    .dataframe tbody tr th:only-of-type {\n",
       "        vertical-align: middle;\n",
       "    }\n",
       "\n",
       "    .dataframe tbody tr th {\n",
       "        vertical-align: top;\n",
       "    }\n",
       "\n",
       "    .dataframe thead th {\n",
       "        text-align: right;\n",
       "    }\n",
       "</style>\n",
       "<table border=\"1\" class=\"dataframe\">\n",
       "  <thead>\n",
       "    <tr style=\"text-align: right;\">\n",
       "      <th></th>\n",
       "      <th>first_name</th>\n",
       "      <th>last_name</th>\n",
       "      <th>email</th>\n",
       "      <th>gender</th>\n",
       "      <th>City</th>\n",
       "      <th>Country</th>\n",
       "      <th>Address</th>\n",
       "      <th>ID_Producto</th>\n",
       "      <th>Fecha_Venta</th>\n",
       "      <th>Cantidad</th>\n",
       "      <th>Total</th>\n",
       "      <th>Nombre_Producto</th>\n",
       "      <th>Categoría</th>\n",
       "      <th>Precio</th>\n",
       "      <th>Origen</th>\n",
       "      <th>Descripción</th>\n",
       "    </tr>\n",
       "  </thead>\n",
       "  <tbody>\n",
       "    <tr>\n",
       "      <th>46</th>\n",
       "      <td>Mano</td>\n",
       "      <td>Briat</td>\n",
       "      <td>mbriatf2@parallels.com</td>\n",
       "      <td>NaN</td>\n",
       "      <td>Sevilla</td>\n",
       "      <td>NaN</td>\n",
       "      <td>90 Bultman Street</td>\n",
       "      <td>CN108</td>\n",
       "      <td>2023-10-02</td>\n",
       "      <td>1</td>\n",
       "      <td>4.75</td>\n",
       "      <td>NaN</td>\n",
       "      <td>NaN</td>\n",
       "      <td>NaN</td>\n",
       "      <td>NaN</td>\n",
       "      <td>NaN</td>\n",
       "    </tr>\n",
       "    <tr>\n",
       "      <th>56</th>\n",
       "      <td>Teddy</td>\n",
       "      <td>Matovic</td>\n",
       "      <td>tmatovicgc@zimbio.com</td>\n",
       "      <td>Male</td>\n",
       "      <td>Malaga</td>\n",
       "      <td>Spain</td>\n",
       "      <td>86 Beilfuss Terrace</td>\n",
       "      <td>AS45</td>\n",
       "      <td>2023-10-26</td>\n",
       "      <td>1</td>\n",
       "      <td>4.75</td>\n",
       "      <td>NaN</td>\n",
       "      <td>NaN</td>\n",
       "      <td>NaN</td>\n",
       "      <td>NaN</td>\n",
       "      <td>NaN</td>\n",
       "    </tr>\n",
       "    <tr>\n",
       "      <th>70</th>\n",
       "      <td>Quinn</td>\n",
       "      <td>Brenton</td>\n",
       "      <td>qbrentonmj@blogtalkradio.com</td>\n",
       "      <td>Female</td>\n",
       "      <td>Gijon</td>\n",
       "      <td>Spain</td>\n",
       "      <td>5495 Lakeland Junction</td>\n",
       "      <td>Y25</td>\n",
       "      <td>2023-11-16</td>\n",
       "      <td>2</td>\n",
       "      <td>13.50</td>\n",
       "      <td>Cacciatore</td>\n",
       "      <td>Embutidos</td>\n",
       "      <td>6.75</td>\n",
       "      <td>Italia</td>\n",
       "      <td>Salchichas de cerdo condimentadas con hierbas ...</td>\n",
       "    </tr>\n",
       "    <tr>\n",
       "      <th>9</th>\n",
       "      <td>Anni</td>\n",
       "      <td>Handrock</td>\n",
       "      <td>ahandrock6h@vk.com</td>\n",
       "      <td>Female</td>\n",
       "      <td>Sevilla</td>\n",
       "      <td>Spain</td>\n",
       "      <td>10 Maple Road</td>\n",
       "      <td>BW91</td>\n",
       "      <td>2023-10-19</td>\n",
       "      <td>2</td>\n",
       "      <td>9.98</td>\n",
       "      <td>NaN</td>\n",
       "      <td>NaN</td>\n",
       "      <td>NaN</td>\n",
       "      <td>NaN</td>\n",
       "      <td>NaN</td>\n",
       "    </tr>\n",
       "    <tr>\n",
       "      <th>32</th>\n",
       "      <td>Tynan</td>\n",
       "      <td>Oty</td>\n",
       "      <td>toty8w@nymag.com</td>\n",
       "      <td>Male</td>\n",
       "      <td>Albacete</td>\n",
       "      <td>NaN</td>\n",
       "      <td>02 Reindahl Terrace</td>\n",
       "      <td>AH126</td>\n",
       "      <td>2023-09-14</td>\n",
       "      <td>1</td>\n",
       "      <td>4.75</td>\n",
       "      <td>NaN</td>\n",
       "      <td>NaN</td>\n",
       "      <td>NaN</td>\n",
       "      <td>NaN</td>\n",
       "      <td>NaN</td>\n",
       "    </tr>\n",
       "  </tbody>\n",
       "</table>\n",
       "</div>"
      ],
      "text/plain": [
       "   first_name last_name                         email  gender      City  \\\n",
       "46       Mano     Briat        mbriatf2@parallels.com     NaN   Sevilla   \n",
       "56      Teddy   Matovic         tmatovicgc@zimbio.com    Male    Malaga   \n",
       "70      Quinn   Brenton  qbrentonmj@blogtalkradio.com  Female     Gijon   \n",
       "9        Anni  Handrock            ahandrock6h@vk.com  Female   Sevilla   \n",
       "32      Tynan       Oty              toty8w@nymag.com    Male  Albacete   \n",
       "\n",
       "   Country                 Address ID_Producto Fecha_Venta  Cantidad  Total  \\\n",
       "46     NaN       90 Bultman Street       CN108  2023-10-02         1   4.75   \n",
       "56   Spain     86 Beilfuss Terrace        AS45  2023-10-26         1   4.75   \n",
       "70   Spain  5495 Lakeland Junction         Y25  2023-11-16         2  13.50   \n",
       "9    Spain           10 Maple Road        BW91  2023-10-19         2   9.98   \n",
       "32     NaN     02 Reindahl Terrace       AH126  2023-09-14         1   4.75   \n",
       "\n",
       "   Nombre_Producto  Categoría  Precio  Origen  \\\n",
       "46             NaN        NaN     NaN     NaN   \n",
       "56             NaN        NaN     NaN     NaN   \n",
       "70      Cacciatore  Embutidos    6.75  Italia   \n",
       "9              NaN        NaN     NaN     NaN   \n",
       "32             NaN        NaN     NaN     NaN   \n",
       "\n",
       "                                          Descripción  \n",
       "46                                                NaN  \n",
       "56                                                NaN  \n",
       "70  Salchichas de cerdo condimentadas con hierbas ...  \n",
       "9                                                 NaN  \n",
       "32                                                NaN  "
      ]
     },
     "execution_count": 36,
     "metadata": {},
     "output_type": "execute_result"
    }
   ],
   "source": [
    "tabla_completa = mergeado_inner.merge( right=df_productos, how='left', left_on='ID_Producto', right_on='ID')\n",
    "tabla_completa.sample(5)"
   ]
  },
  {
   "cell_type": "code",
   "execution_count": 32,
   "id": "faffb3b3",
   "metadata": {},
   "outputs": [
    {
     "name": "stdout",
     "output_type": "stream",
     "text": [
      "<class 'pandas.core.frame.DataFrame'>\n",
      "RangeIndex: 100 entries, 0 to 99\n",
      "Data columns (total 16 columns):\n",
      " #   Column           Non-Null Count  Dtype  \n",
      "---  ------           --------------  -----  \n",
      " 0   first_name       100 non-null    object \n",
      " 1   last_name        100 non-null    object \n",
      " 2   email            100 non-null    object \n",
      " 3   gender           83 non-null     object \n",
      " 4   City             84 non-null     object \n",
      " 5   Country          74 non-null     object \n",
      " 6   Address          100 non-null    object \n",
      " 7   ID_Producto      100 non-null    object \n",
      " 8   Fecha_Venta      100 non-null    object \n",
      " 9   Cantidad         100 non-null    int64  \n",
      " 10  Total            100 non-null    float64\n",
      " 11  Nombre_Producto  10 non-null     object \n",
      " 12  Categoría        10 non-null     object \n",
      " 13  Precio           10 non-null     float64\n",
      " 14  Origen           10 non-null     object \n",
      " 15  Descripción      10 non-null     object \n",
      "dtypes: float64(2), int64(1), object(13)\n",
      "memory usage: 12.6+ KB\n"
     ]
    }
   ],
   "source": [
    "tabla_completa.info()"
   ]
  },
  {
   "cell_type": "code",
   "execution_count": 25,
   "id": "fe44f8a8",
   "metadata": {},
   "outputs": [
    {
     "data": {
      "text/plain": [
       "np.int64(0)"
      ]
     },
     "execution_count": 25,
     "metadata": {},
     "output_type": "execute_result"
    }
   ],
   "source": [
    "tabla_completa.duplicated().sum()"
   ]
  },
  {
   "cell_type": "markdown",
   "id": "103b087c",
   "metadata": {},
   "source": [
    "Intentamos modificar los id erróneos "
   ]
  },
  {
   "cell_type": "code",
   "execution_count": 41,
   "id": "a02e10d5",
   "metadata": {},
   "outputs": [],
   "source": [
    "ids = tabla_completa['ID_Producto'].unique()"
   ]
  },
  {
   "cell_type": "code",
   "execution_count": 40,
   "id": "287b5181",
   "metadata": {},
   "outputs": [
    {
     "data": {
      "text/plain": [
       "ID    Nombre_Producto               \n",
       "A1    Pizza Margherita                  1\n",
       "AA27  Caponata di Melanzane             1\n",
       "B2    Risotto de Champiñones            1\n",
       "BB28  Cappelletti                       1\n",
       "C3    Tiramisú                          1\n",
       "CC29  Carbonara                         1\n",
       "D4    Panettone                         1\n",
       "DD30  Carciofi Ripieni                  1\n",
       "E5    Orecchiette                       1\n",
       "EE31  Casatiello                        1\n",
       "F6    Polenta Tradicional               1\n",
       "FF32  Cassata Siciliana                 1\n",
       "G7    Mozzarella di Bufala              1\n",
       "GG33  Ciceri e Tria                     1\n",
       "H8    Pesto Genovese                    1\n",
       "I9    Lasagna Bolognesa                 1\n",
       "J10   Arroz Arborio                     1\n",
       "K11   Café Espresso                     1\n",
       "L12   Sardinas en Aceite de Oliva       1\n",
       "M13   Pesto Rosso                       1\n",
       "N14   Gnocchi de Patata                 1\n",
       "O15   Ravioli de Ricotta y Espinacas    1\n",
       "P16   Caponata                          1\n",
       "Q17   Pasta de Trigo                    1\n",
       "R18   Salsa de Tomate Casera            1\n",
       "S19   Aceite de Oliva Virgen Extra      1\n",
       "T20   Queso Parmesano                   1\n",
       "U21   Salami Toscano                    1\n",
       "V22   Prosciutto di Parma               1\n",
       "W23   Gelato de Limón                   1\n",
       "X24   Cannoli                           1\n",
       "Y25   Cacciatore                        1\n",
       "Z26   Calzone                           1\n",
       "Name: count, dtype: int64"
      ]
     },
     "execution_count": 40,
     "metadata": {},
     "output_type": "execute_result"
    }
   ],
   "source": [
    "df_productos.groupby('ID')['Nombre_Producto'].value_counts()"
   ]
  },
  {
   "cell_type": "code",
   "execution_count": 44,
   "id": "f0ea9bc6",
   "metadata": {},
   "outputs": [],
   "source": [
    "productos = {\n",
    "    \"A1\": \"Pizza Margherita\",\n",
    "    \"AA27\": \"Caponata di Melanzane\",\n",
    "    \"B2\": \"Risotto de Champiñones\",\n",
    "    \"BB28\": \"Cappelletti\",\n",
    "    \"C3\": \"Tiramisú\",\n",
    "    \"CC29\": \"Carbonara\",\n",
    "    \"D4\": \"Panettone\",\n",
    "    \"DD30\": \"Carciofi Ripieni\",\n",
    "    \"E5\": \"Orecchiette\",\n",
    "    \"EE31\": \"Casatiello\",\n",
    "    \"F6\": \"Polenta Tradicional\",\n",
    "    \"FF32\": \"Cassata Siciliana\",\n",
    "    \"G7\": \"Mozzarella di Bufala\",\n",
    "    \"GG33\": \"Ciceri e Tria\",\n",
    "    \"H8\": \"Pesto Genovese\",\n",
    "    \"I9\": \"Lasagna Bolognesa\",\n",
    "    \"J10\": \"Arroz Arborio\",\n",
    "    \"K11\": \"Café Espresso\",\n",
    "    \"L12\": \"Sardinas en Aceite de Oliva\",\n",
    "    \"M13\": \"Pesto Rosso\",\n",
    "    \"N14\": \"Gnocchi de Patata\",\n",
    "    \"O15\": \"Ravioli de Ricotta y Espinacas\",\n",
    "    \"P16\": \"Caponata\",\n",
    "    \"Q17\": \"Pasta de Trigo\",\n",
    "    \"R18\": \"Salsa de Tomate Casera\",\n",
    "    \"S19\": \"Aceite de Oliva Virgen Extra\",\n",
    "    \"T20\": \"Queso Parmesano\",\n",
    "    \"U21\": \"Salami Toscano\",\n",
    "    \"V22\": \"Prosciutto di Parma\",\n",
    "    \"W23\": \"Gelato de Limón\",\n",
    "    \"X24\": \"Cannoli\",\n",
    "    \"Y25\": \"Cacciatore\",\n",
    "    \"Z26\": \"Calzone\"\n",
    "}"
   ]
  },
  {
   "cell_type": "code",
   "execution_count": 45,
   "id": "63ea613a",
   "metadata": {},
   "outputs": [],
   "source": [
    "nombres = [\n",
    "    \"Pizza Margherita\",\n",
    "    \"Caponata di Melanzane\",\n",
    "    \"Risotto de Champiñones\",\n",
    "    \"Cappelletti\",\n",
    "    \"Tiramisú\",\n",
    "    \"Carbonara\",\n",
    "    \"Panettone\",\n",
    "    \"Carciofi Ripieni\",\n",
    "    \"Orecchiette\",\n",
    "    \"Casatiello\",\n",
    "    \"Polenta Tradicional\",\n",
    "    \"Cassata Siciliana\",\n",
    "    \"Mozzarella di Bufala\",\n",
    "    \"Ciceri e Tria\",\n",
    "    \"Pesto Genovese\",\n",
    "    \"Lasagna Bolognesa\",\n",
    "    \"Arroz Arborio\",\n",
    "    \"Café Espresso\",\n",
    "    \"Sardinas en Aceite de Oliva\",\n",
    "    \"Pesto Rosso\",\n",
    "    \"Gnocchi de Patata\",\n",
    "    \"Ravioli de Ricotta y Espinacas\",\n",
    "    \"Caponata\",\n",
    "    \"Pasta de Trigo\",\n",
    "    \"Salsa de Tomate Casera\",\n",
    "    \"Aceite de Oliva Virgen Extra\",\n",
    "    \"Queso Parmesano\",\n",
    "    \"Salami Toscano\",\n",
    "    \"Prosciutto di Parma\",\n",
    "    \"Gelato de Limón\",\n",
    "    \"Cannoli\",\n",
    "    \"Cacciatore\",\n",
    "    \"Calzone\"\n",
    "]"
   ]
  },
  {
   "cell_type": "code",
   "execution_count": 49,
   "id": "2ed99e00",
   "metadata": {},
   "outputs": [
    {
     "data": {
      "text/plain": [
       "array(['Z26', 'D4', 'AF32', 'AU47', 'U21', 'AP42', 'BC71', 'BQ85', 'BS87',\n",
       "       'BW91', 'BZ94', 'CB96', 'CE99', 'CG101', 'CJ104', 'CL106', 'CO109',\n",
       "       'CQ111', 'CT114', 'CV116', 'CY119', 'AE123', 'AL130', 'AO133',\n",
       "       'AR136', 'AU139', 'AM39', 'AR44', 'BG75', 'AW49', 'BJ78', 'BP84',\n",
       "       'AH126', 'Q17', 'AJ36', 'AH34', 'BM81', 'AD122', 'AY51', 'C3',\n",
       "       'AN40', 'BE73', 'BV90', 'BY93', 'CD98', 'CI103', 'CN108', 'CS113',\n",
       "       'CX118', 'AG125', 'AK129', 'AN132', 'AQ135', 'AT138', 'AA27',\n",
       "       'BO83', 'AS45', 'T20', 'AK37', 'AV48', 'BK79', 'AJ128', 'A1',\n",
       "       'AQ43', 'BN82', 'BT88', 'AI35', 'AC121', 'AX50', 'BI77', 'Y25',\n",
       "       'AG33', 'AT46', 'BD72', 'BL80', 'BU89', 'CA95', 'CF100', 'CK105',\n",
       "       'CP110', 'CU115', 'CZ120', 'AI127', 'L12', 'AL38', 'BF74', 'AO41',\n",
       "       'BH76', 'BR86', 'BX92', 'CC97', 'CH102', 'CM107', 'CR112', 'CW117',\n",
       "       'AF124', 'AM131', 'AP134', 'AS137', 'AV140'], dtype=object)"
      ]
     },
     "execution_count": 49,
     "metadata": {},
     "output_type": "execute_result"
    }
   ],
   "source": [
    "ids"
   ]
  },
  {
   "cell_type": "code",
   "execution_count": 46,
   "id": "8dcf20be",
   "metadata": {},
   "outputs": [
    {
     "name": "stdout",
     "output_type": "stream",
     "text": [
      "['A1', 'AA27', 'B2', 'BB28', 'C3', 'CC29', 'D4', 'DD30', 'E5', 'EE31', 'F6', 'FF32', 'G7', 'GG33', 'H8', 'I9', 'J10', 'K11', 'L12', 'M13', 'N14', 'O15', 'P16', 'Q17', 'R18', 'S19', 'T20', 'U21', 'V22', 'W23', 'X24', 'Y25', 'Z26']\n"
     ]
    }
   ],
   "source": [
    "# Invertir el diccionario para buscar ID por nombre\n",
    "nombre_a_id = {v: k for k, v in productos.items()}\n",
    "\n",
    "# Corregir los IDs usando los nombres\n",
    "ids_corregidos = [nombre_a_id.get(nombre, None) for nombre in nombres]\n",
    "\n",
    "print(ids_corregidos)"
   ]
  },
  {
   "cell_type": "markdown",
   "id": "fad3214d",
   "metadata": {},
   "source": [
    "Tenemos una lista con los id corregidos pero no los podemos meter en la tabla porque ya no siguen el orden de la tabla"
   ]
  },
  {
   "cell_type": "code",
   "execution_count": 52,
   "id": "20527f89",
   "metadata": {},
   "outputs": [
    {
     "data": {
      "text/plain": [
       "array(['A1', 'C3', 'D4', 'L12', 'Q17', 'T20', 'Y25', 'U21', 'Z26', 'AA27',\n",
       "       'AF32', 'AG33', 'AH34', 'AI35', 'AJ36', 'AK37', 'AL38', 'AM39',\n",
       "       'AN40', 'AO41', 'AP42', 'AQ43', 'AR44', 'AS45', 'AT46', 'AU47',\n",
       "       'AV48', 'AW49', 'AX50', 'AY51', 'BC71', 'BD72', 'BE73', 'BF74',\n",
       "       'BG75', 'BH76', 'BI77', 'BJ78', 'BK79', 'BL80', 'BM81', 'BN82',\n",
       "       'BO83', 'BP84', 'BQ85', 'BR86', 'BS87', 'BT88', 'BU89', 'BV90',\n",
       "       'BW91', 'BX92', 'BY93', 'BZ94', 'CA95', 'CB96', 'CC97', 'CD98',\n",
       "       'CE99', 'CF100', 'CG101', 'CH102', 'CI103', 'CJ104', 'CK105',\n",
       "       'CL106', 'CM107', 'CN108', 'CO109', 'CP110', 'CQ111', 'CR112',\n",
       "       'CS113', 'CT114', 'CU115', 'CV116', 'CW117', 'CX118', 'CY119',\n",
       "       'CZ120', 'AC121', 'AD122', 'AE123', 'AF124', 'AG125', 'AH126',\n",
       "       'AI127', 'AJ128', 'AK129', 'AL130', 'AM131', 'AN132', 'AO133',\n",
       "       'AP134', 'AQ135', 'AR136', 'AS137', 'AT138', 'AU139', 'AV140'],\n",
       "      dtype=object)"
      ]
     },
     "execution_count": 52,
     "metadata": {},
     "output_type": "execute_result"
    }
   ],
   "source": [
    "df_ventas['ID_Producto'].unique()"
   ]
  },
  {
   "cell_type": "markdown",
   "id": "306eefcb",
   "metadata": {},
   "source": [
    "No podemos hacer limpieza porque no siue un orden. NO sabemos si hay productos descatalogados o se han equivocado en casi todas las ventas al escribir el producto de venta\n",
    "\n",
    "Pensamos que es mejor hacer un inner:"
   ]
  },
  {
   "cell_type": "code",
   "execution_count": 53,
   "id": "f9e5e2a0",
   "metadata": {},
   "outputs": [
    {
     "data": {
      "text/html": [
       "<div>\n",
       "<style scoped>\n",
       "    .dataframe tbody tr th:only-of-type {\n",
       "        vertical-align: middle;\n",
       "    }\n",
       "\n",
       "    .dataframe tbody tr th {\n",
       "        vertical-align: top;\n",
       "    }\n",
       "\n",
       "    .dataframe thead th {\n",
       "        text-align: right;\n",
       "    }\n",
       "</style>\n",
       "<table border=\"1\" class=\"dataframe\">\n",
       "  <thead>\n",
       "    <tr style=\"text-align: right;\">\n",
       "      <th></th>\n",
       "      <th>first_name</th>\n",
       "      <th>last_name</th>\n",
       "      <th>email</th>\n",
       "      <th>gender</th>\n",
       "      <th>City</th>\n",
       "      <th>Country</th>\n",
       "      <th>Address</th>\n",
       "      <th>ID_Producto</th>\n",
       "      <th>Fecha_Venta</th>\n",
       "      <th>Cantidad</th>\n",
       "      <th>Total</th>\n",
       "      <th>Nombre_Producto</th>\n",
       "      <th>Categoría</th>\n",
       "      <th>Precio</th>\n",
       "      <th>Origen</th>\n",
       "      <th>Descripción</th>\n",
       "    </tr>\n",
       "  </thead>\n",
       "  <tbody>\n",
       "    <tr>\n",
       "      <th>1</th>\n",
       "      <td>Wye</td>\n",
       "      <td>Sinncock</td>\n",
       "      <td>wsinncock3c@fc2.com</td>\n",
       "      <td>Male</td>\n",
       "      <td>Santander</td>\n",
       "      <td>NaN</td>\n",
       "      <td>4679 Fair Oaks Trail</td>\n",
       "      <td>D4</td>\n",
       "      <td>2023-11-20</td>\n",
       "      <td>3</td>\n",
       "      <td>32.97</td>\n",
       "      <td>Panettone</td>\n",
       "      <td>Repostería</td>\n",
       "      <td>10.99</td>\n",
       "      <td>Italia</td>\n",
       "      <td>Pan dulce navideño italiano con frutas confita...</td>\n",
       "    </tr>\n",
       "    <tr>\n",
       "      <th>2</th>\n",
       "      <td>Brigit</td>\n",
       "      <td>Witt</td>\n",
       "      <td>bwitt4p@va.gov</td>\n",
       "      <td>Female</td>\n",
       "      <td>Dos Hermanas</td>\n",
       "      <td>Spain</td>\n",
       "      <td>38 Ohio Point</td>\n",
       "      <td>U21</td>\n",
       "      <td>2023-11-15</td>\n",
       "      <td>1</td>\n",
       "      <td>5.75</td>\n",
       "      <td>Salami Toscano</td>\n",
       "      <td>Embutidos</td>\n",
       "      <td>5.75</td>\n",
       "      <td>Italia</td>\n",
       "      <td>Salami de cerdo italiano curado con hierbas y ...</td>\n",
       "    </tr>\n",
       "    <tr>\n",
       "      <th>5</th>\n",
       "      <td>Chickie</td>\n",
       "      <td>Corkhill</td>\n",
       "      <td>ccorkhillfq@china.com.cn</td>\n",
       "      <td>Male</td>\n",
       "      <td>Valladolid</td>\n",
       "      <td>Spain</td>\n",
       "      <td>9 4th Street</td>\n",
       "      <td>AA27</td>\n",
       "      <td>2023-11-13</td>\n",
       "      <td>1</td>\n",
       "      <td>7.49</td>\n",
       "      <td>Caponata di Melanzane</td>\n",
       "      <td>Entrantes</td>\n",
       "      <td>4.89</td>\n",
       "      <td>Italia</td>\n",
       "      <td>Entrante italiano con berenjenas tomate apio a...</td>\n",
       "    </tr>\n",
       "    <tr>\n",
       "      <th>7</th>\n",
       "      <td>Sephira</td>\n",
       "      <td>Bleackley</td>\n",
       "      <td>sbleackleyk2@liveinternet.ru</td>\n",
       "      <td>NaN</td>\n",
       "      <td>Girona</td>\n",
       "      <td>NaN</td>\n",
       "      <td>4 Birchwood Road</td>\n",
       "      <td>A1</td>\n",
       "      <td>2023-11-22</td>\n",
       "      <td>2</td>\n",
       "      <td>17.98</td>\n",
       "      <td>Pizza Margherita</td>\n",
       "      <td>Platos Preparados</td>\n",
       "      <td>8.99</td>\n",
       "      <td>Italia</td>\n",
       "      <td>Clásica pizza italiana con tomate mozzarella f...</td>\n",
       "    </tr>\n",
       "    <tr>\n",
       "      <th>3</th>\n",
       "      <td>Egbert</td>\n",
       "      <td>Leborgne</td>\n",
       "      <td>eleborgne9m@reuters.com</td>\n",
       "      <td>Male</td>\n",
       "      <td>Sevilla</td>\n",
       "      <td>Spain</td>\n",
       "      <td>7 Quincy Way</td>\n",
       "      <td>Q17</td>\n",
       "      <td>2023-11-18</td>\n",
       "      <td>2</td>\n",
       "      <td>7.98</td>\n",
       "      <td>Pasta de Trigo</td>\n",
       "      <td>Productos Secos</td>\n",
       "      <td>3.99</td>\n",
       "      <td>Italia</td>\n",
       "      <td>Deliciosa pasta de trigo durum italiana ideal ...</td>\n",
       "    </tr>\n",
       "  </tbody>\n",
       "</table>\n",
       "</div>"
      ],
      "text/plain": [
       "  first_name  last_name                         email  gender          City  \\\n",
       "1        Wye   Sinncock           wsinncock3c@fc2.com    Male     Santander   \n",
       "2     Brigit       Witt                bwitt4p@va.gov  Female  Dos Hermanas   \n",
       "5    Chickie   Corkhill      ccorkhillfq@china.com.cn    Male    Valladolid   \n",
       "7    Sephira  Bleackley  sbleackleyk2@liveinternet.ru     NaN        Girona   \n",
       "3     Egbert   Leborgne       eleborgne9m@reuters.com    Male       Sevilla   \n",
       "\n",
       "  Country               Address ID_Producto Fecha_Venta  Cantidad  Total  \\\n",
       "1     NaN  4679 Fair Oaks Trail          D4  2023-11-20         3  32.97   \n",
       "2   Spain         38 Ohio Point         U21  2023-11-15         1   5.75   \n",
       "5   Spain          9 4th Street        AA27  2023-11-13         1   7.49   \n",
       "7     NaN      4 Birchwood Road          A1  2023-11-22         2  17.98   \n",
       "3   Spain          7 Quincy Way         Q17  2023-11-18         2   7.98   \n",
       "\n",
       "         Nombre_Producto          Categoría  Precio  Origen  \\\n",
       "1              Panettone         Repostería   10.99  Italia   \n",
       "2         Salami Toscano          Embutidos    5.75  Italia   \n",
       "5  Caponata di Melanzane          Entrantes    4.89  Italia   \n",
       "7       Pizza Margherita  Platos Preparados    8.99  Italia   \n",
       "3         Pasta de Trigo    Productos Secos    3.99  Italia   \n",
       "\n",
       "                                         Descripción  \n",
       "1  Pan dulce navideño italiano con frutas confita...  \n",
       "2  Salami de cerdo italiano curado con hierbas y ...  \n",
       "5  Entrante italiano con berenjenas tomate apio a...  \n",
       "7  Clásica pizza italiana con tomate mozzarella f...  \n",
       "3  Deliciosa pasta de trigo durum italiana ideal ...  "
      ]
     },
     "execution_count": 53,
     "metadata": {},
     "output_type": "execute_result"
    }
   ],
   "source": [
    "tabla_completa2 = mergeado_inner.merge(df_productos, left_on='ID_Producto', right_on='ID')\n",
    "tabla_completa2.sample(5)"
   ]
  },
  {
   "cell_type": "code",
   "execution_count": 54,
   "id": "c91990a1",
   "metadata": {},
   "outputs": [
    {
     "name": "stdout",
     "output_type": "stream",
     "text": [
      "<class 'pandas.core.frame.DataFrame'>\n",
      "RangeIndex: 10 entries, 0 to 9\n",
      "Data columns (total 16 columns):\n",
      " #   Column           Non-Null Count  Dtype  \n",
      "---  ------           --------------  -----  \n",
      " 0   first_name       10 non-null     object \n",
      " 1   last_name        10 non-null     object \n",
      " 2   email            10 non-null     object \n",
      " 3   gender           9 non-null      object \n",
      " 4   City             10 non-null     object \n",
      " 5   Country          8 non-null      object \n",
      " 6   Address          10 non-null     object \n",
      " 7   ID_Producto      10 non-null     object \n",
      " 8   Fecha_Venta      10 non-null     object \n",
      " 9   Cantidad         10 non-null     int64  \n",
      " 10  Total            10 non-null     float64\n",
      " 11  Nombre_Producto  10 non-null     object \n",
      " 12  Categoría        10 non-null     object \n",
      " 13  Precio           10 non-null     float64\n",
      " 14  Origen           10 non-null     object \n",
      " 15  Descripción      10 non-null     object \n",
      "dtypes: float64(2), int64(1), object(13)\n",
      "memory usage: 1.4+ KB\n"
     ]
    }
   ],
   "source": [
    "tabla_completa2.info()"
   ]
  },
  {
   "cell_type": "code",
   "execution_count": 55,
   "id": "520990d0",
   "metadata": {},
   "outputs": [
    {
     "data": {
      "text/html": [
       "<div>\n",
       "<style scoped>\n",
       "    .dataframe tbody tr th:only-of-type {\n",
       "        vertical-align: middle;\n",
       "    }\n",
       "\n",
       "    .dataframe tbody tr th {\n",
       "        vertical-align: top;\n",
       "    }\n",
       "\n",
       "    .dataframe thead th {\n",
       "        text-align: right;\n",
       "    }\n",
       "</style>\n",
       "<table border=\"1\" class=\"dataframe\">\n",
       "  <thead>\n",
       "    <tr style=\"text-align: right;\">\n",
       "      <th></th>\n",
       "      <th>first_name</th>\n",
       "      <th>last_name</th>\n",
       "      <th>email</th>\n",
       "      <th>gender</th>\n",
       "      <th>City</th>\n",
       "      <th>Country</th>\n",
       "      <th>Address</th>\n",
       "      <th>ID_Producto</th>\n",
       "      <th>Fecha_Venta</th>\n",
       "      <th>Cantidad</th>\n",
       "      <th>Total</th>\n",
       "      <th>Nombre_Producto</th>\n",
       "      <th>Categoría</th>\n",
       "      <th>Precio</th>\n",
       "      <th>Origen</th>\n",
       "      <th>Descripción</th>\n",
       "    </tr>\n",
       "  </thead>\n",
       "  <tbody>\n",
       "    <tr>\n",
       "      <th>0</th>\n",
       "      <td>Jere</td>\n",
       "      <td>Bampkin</td>\n",
       "      <td>jbampkins@wunderground.com</td>\n",
       "      <td>Male</td>\n",
       "      <td>Jaen</td>\n",
       "      <td>Spain</td>\n",
       "      <td>4478 Mockingbird Avenue</td>\n",
       "      <td>Z26</td>\n",
       "      <td>2023-11-14</td>\n",
       "      <td>2</td>\n",
       "      <td>14.98</td>\n",
       "      <td>Calzone</td>\n",
       "      <td>Pizzas</td>\n",
       "      <td>7.49</td>\n",
       "      <td>Italia</td>\n",
       "      <td>Pizza cerrada y horneada rellena de queso sals...</td>\n",
       "    </tr>\n",
       "    <tr>\n",
       "      <th>1</th>\n",
       "      <td>Wye</td>\n",
       "      <td>Sinncock</td>\n",
       "      <td>wsinncock3c@fc2.com</td>\n",
       "      <td>Male</td>\n",
       "      <td>Santander</td>\n",
       "      <td>NaN</td>\n",
       "      <td>4679 Fair Oaks Trail</td>\n",
       "      <td>D4</td>\n",
       "      <td>2023-11-20</td>\n",
       "      <td>3</td>\n",
       "      <td>32.97</td>\n",
       "      <td>Panettone</td>\n",
       "      <td>Repostería</td>\n",
       "      <td>10.99</td>\n",
       "      <td>Italia</td>\n",
       "      <td>Pan dulce navideño italiano con frutas confita...</td>\n",
       "    </tr>\n",
       "    <tr>\n",
       "      <th>2</th>\n",
       "      <td>Brigit</td>\n",
       "      <td>Witt</td>\n",
       "      <td>bwitt4p@va.gov</td>\n",
       "      <td>Female</td>\n",
       "      <td>Dos Hermanas</td>\n",
       "      <td>Spain</td>\n",
       "      <td>38 Ohio Point</td>\n",
       "      <td>U21</td>\n",
       "      <td>2023-11-15</td>\n",
       "      <td>1</td>\n",
       "      <td>5.75</td>\n",
       "      <td>Salami Toscano</td>\n",
       "      <td>Embutidos</td>\n",
       "      <td>5.75</td>\n",
       "      <td>Italia</td>\n",
       "      <td>Salami de cerdo italiano curado con hierbas y ...</td>\n",
       "    </tr>\n",
       "    <tr>\n",
       "      <th>3</th>\n",
       "      <td>Egbert</td>\n",
       "      <td>Leborgne</td>\n",
       "      <td>eleborgne9m@reuters.com</td>\n",
       "      <td>Male</td>\n",
       "      <td>Sevilla</td>\n",
       "      <td>Spain</td>\n",
       "      <td>7 Quincy Way</td>\n",
       "      <td>Q17</td>\n",
       "      <td>2023-11-18</td>\n",
       "      <td>2</td>\n",
       "      <td>7.98</td>\n",
       "      <td>Pasta de Trigo</td>\n",
       "      <td>Productos Secos</td>\n",
       "      <td>3.99</td>\n",
       "      <td>Italia</td>\n",
       "      <td>Deliciosa pasta de trigo durum italiana ideal ...</td>\n",
       "    </tr>\n",
       "    <tr>\n",
       "      <th>4</th>\n",
       "      <td>Padgett</td>\n",
       "      <td>Painter</td>\n",
       "      <td>ppainterdt@scientificamerican.com</td>\n",
       "      <td>Male</td>\n",
       "      <td>Barcelona</td>\n",
       "      <td>Spain</td>\n",
       "      <td>5 Artisan Lane</td>\n",
       "      <td>C3</td>\n",
       "      <td>2023-11-21</td>\n",
       "      <td>1</td>\n",
       "      <td>5.49</td>\n",
       "      <td>Tiramisú</td>\n",
       "      <td>Postres</td>\n",
       "      <td>5.49</td>\n",
       "      <td>Italia</td>\n",
       "      <td>Postre clásico italiano con capas de bizcocho ...</td>\n",
       "    </tr>\n",
       "    <tr>\n",
       "      <th>5</th>\n",
       "      <td>Chickie</td>\n",
       "      <td>Corkhill</td>\n",
       "      <td>ccorkhillfq@china.com.cn</td>\n",
       "      <td>Male</td>\n",
       "      <td>Valladolid</td>\n",
       "      <td>Spain</td>\n",
       "      <td>9 4th Street</td>\n",
       "      <td>AA27</td>\n",
       "      <td>2023-11-13</td>\n",
       "      <td>1</td>\n",
       "      <td>7.49</td>\n",
       "      <td>Caponata di Melanzane</td>\n",
       "      <td>Entrantes</td>\n",
       "      <td>4.89</td>\n",
       "      <td>Italia</td>\n",
       "      <td>Entrante italiano con berenjenas tomate apio a...</td>\n",
       "    </tr>\n",
       "    <tr>\n",
       "      <th>6</th>\n",
       "      <td>Nicky</td>\n",
       "      <td>Bernier</td>\n",
       "      <td>nbernierh6@4shared.com</td>\n",
       "      <td>Agender</td>\n",
       "      <td>Valladolid</td>\n",
       "      <td>Spain</td>\n",
       "      <td>55 Waubesa Trail</td>\n",
       "      <td>T20</td>\n",
       "      <td>2023-11-17</td>\n",
       "      <td>1</td>\n",
       "      <td>7.89</td>\n",
       "      <td>Queso Parmesano</td>\n",
       "      <td>Productos Lácteos</td>\n",
       "      <td>7.89</td>\n",
       "      <td>Italia</td>\n",
       "      <td>El famoso queso italiano madurado durante mese...</td>\n",
       "    </tr>\n",
       "    <tr>\n",
       "      <th>7</th>\n",
       "      <td>Sephira</td>\n",
       "      <td>Bleackley</td>\n",
       "      <td>sbleackleyk2@liveinternet.ru</td>\n",
       "      <td>NaN</td>\n",
       "      <td>Girona</td>\n",
       "      <td>NaN</td>\n",
       "      <td>4 Birchwood Road</td>\n",
       "      <td>A1</td>\n",
       "      <td>2023-11-22</td>\n",
       "      <td>2</td>\n",
       "      <td>17.98</td>\n",
       "      <td>Pizza Margherita</td>\n",
       "      <td>Platos Preparados</td>\n",
       "      <td>8.99</td>\n",
       "      <td>Italia</td>\n",
       "      <td>Clásica pizza italiana con tomate mozzarella f...</td>\n",
       "    </tr>\n",
       "    <tr>\n",
       "      <th>8</th>\n",
       "      <td>Quinn</td>\n",
       "      <td>Brenton</td>\n",
       "      <td>qbrentonmj@blogtalkradio.com</td>\n",
       "      <td>Female</td>\n",
       "      <td>Gijon</td>\n",
       "      <td>Spain</td>\n",
       "      <td>5495 Lakeland Junction</td>\n",
       "      <td>Y25</td>\n",
       "      <td>2023-11-16</td>\n",
       "      <td>2</td>\n",
       "      <td>13.50</td>\n",
       "      <td>Cacciatore</td>\n",
       "      <td>Embutidos</td>\n",
       "      <td>6.75</td>\n",
       "      <td>Italia</td>\n",
       "      <td>Salchichas de cerdo condimentadas con hierbas ...</td>\n",
       "    </tr>\n",
       "    <tr>\n",
       "      <th>9</th>\n",
       "      <td>Windham</td>\n",
       "      <td>Badham</td>\n",
       "      <td>wbadhamok@wired.com</td>\n",
       "      <td>Male</td>\n",
       "      <td>Hospitalet De Llobregat, L'</td>\n",
       "      <td>Spain</td>\n",
       "      <td>68 Nelson Junction</td>\n",
       "      <td>L12</td>\n",
       "      <td>2023-11-19</td>\n",
       "      <td>1</td>\n",
       "      <td>6.49</td>\n",
       "      <td>Sardinas en Aceite de Oliva</td>\n",
       "      <td>Pescados en Conserva</td>\n",
       "      <td>3.99</td>\n",
       "      <td>Italia</td>\n",
       "      <td>Sardinas frescas en aceite de oliva un bocado ...</td>\n",
       "    </tr>\n",
       "  </tbody>\n",
       "</table>\n",
       "</div>"
      ],
      "text/plain": [
       "  first_name  last_name                              email   gender  \\\n",
       "0       Jere    Bampkin         jbampkins@wunderground.com     Male   \n",
       "1        Wye   Sinncock                wsinncock3c@fc2.com     Male   \n",
       "2     Brigit       Witt                     bwitt4p@va.gov   Female   \n",
       "3     Egbert   Leborgne            eleborgne9m@reuters.com     Male   \n",
       "4    Padgett    Painter  ppainterdt@scientificamerican.com     Male   \n",
       "5    Chickie   Corkhill           ccorkhillfq@china.com.cn     Male   \n",
       "6      Nicky    Bernier             nbernierh6@4shared.com  Agender   \n",
       "7    Sephira  Bleackley       sbleackleyk2@liveinternet.ru      NaN   \n",
       "8      Quinn    Brenton       qbrentonmj@blogtalkradio.com   Female   \n",
       "9    Windham     Badham                wbadhamok@wired.com     Male   \n",
       "\n",
       "                          City Country                  Address ID_Producto  \\\n",
       "0                         Jaen   Spain  4478 Mockingbird Avenue         Z26   \n",
       "1                    Santander     NaN     4679 Fair Oaks Trail          D4   \n",
       "2                 Dos Hermanas   Spain            38 Ohio Point         U21   \n",
       "3                      Sevilla   Spain             7 Quincy Way         Q17   \n",
       "4                    Barcelona   Spain           5 Artisan Lane          C3   \n",
       "5                   Valladolid   Spain             9 4th Street        AA27   \n",
       "6                   Valladolid   Spain         55 Waubesa Trail         T20   \n",
       "7                       Girona     NaN         4 Birchwood Road          A1   \n",
       "8                        Gijon   Spain   5495 Lakeland Junction         Y25   \n",
       "9  Hospitalet De Llobregat, L'   Spain       68 Nelson Junction         L12   \n",
       "\n",
       "  Fecha_Venta  Cantidad  Total              Nombre_Producto  \\\n",
       "0  2023-11-14         2  14.98                      Calzone   \n",
       "1  2023-11-20         3  32.97                    Panettone   \n",
       "2  2023-11-15         1   5.75               Salami Toscano   \n",
       "3  2023-11-18         2   7.98               Pasta de Trigo   \n",
       "4  2023-11-21         1   5.49                     Tiramisú   \n",
       "5  2023-11-13         1   7.49        Caponata di Melanzane   \n",
       "6  2023-11-17         1   7.89              Queso Parmesano   \n",
       "7  2023-11-22         2  17.98             Pizza Margherita   \n",
       "8  2023-11-16         2  13.50                   Cacciatore   \n",
       "9  2023-11-19         1   6.49  Sardinas en Aceite de Oliva   \n",
       "\n",
       "              Categoría  Precio  Origen  \\\n",
       "0                Pizzas    7.49  Italia   \n",
       "1            Repostería   10.99  Italia   \n",
       "2             Embutidos    5.75  Italia   \n",
       "3       Productos Secos    3.99  Italia   \n",
       "4               Postres    5.49  Italia   \n",
       "5             Entrantes    4.89  Italia   \n",
       "6     Productos Lácteos    7.89  Italia   \n",
       "7     Platos Preparados    8.99  Italia   \n",
       "8             Embutidos    6.75  Italia   \n",
       "9  Pescados en Conserva    3.99  Italia   \n",
       "\n",
       "                                         Descripción  \n",
       "0  Pizza cerrada y horneada rellena de queso sals...  \n",
       "1  Pan dulce navideño italiano con frutas confita...  \n",
       "2  Salami de cerdo italiano curado con hierbas y ...  \n",
       "3  Deliciosa pasta de trigo durum italiana ideal ...  \n",
       "4  Postre clásico italiano con capas de bizcocho ...  \n",
       "5  Entrante italiano con berenjenas tomate apio a...  \n",
       "6  El famoso queso italiano madurado durante mese...  \n",
       "7  Clásica pizza italiana con tomate mozzarella f...  \n",
       "8  Salchichas de cerdo condimentadas con hierbas ...  \n",
       "9  Sardinas frescas en aceite de oliva un bocado ...  "
      ]
     },
     "execution_count": 55,
     "metadata": {},
     "output_type": "execute_result"
    }
   ],
   "source": [
    "tabla_completa2.head(10)"
   ]
  },
  {
   "cell_type": "code",
   "execution_count": 56,
   "id": "3293a572",
   "metadata": {},
   "outputs": [
    {
     "data": {
      "text/plain": [
       "array(['Male', 'Female', 'Agender', nan], dtype=object)"
      ]
     },
     "execution_count": 56,
     "metadata": {},
     "output_type": "execute_result"
    }
   ],
   "source": [
    "tabla_completa2['gender'].unique()"
   ]
  },
  {
   "cell_type": "code",
   "execution_count": 57,
   "id": "82f66778",
   "metadata": {},
   "outputs": [],
   "source": [
    "tabla_completa2['gender'] = tabla_completa2['gender'].fillna('Agender')"
   ]
  },
  {
   "cell_type": "code",
   "execution_count": 58,
   "id": "2cddb614",
   "metadata": {},
   "outputs": [
    {
     "data": {
      "text/plain": [
       "array(['Male', 'Female', 'Agender'], dtype=object)"
      ]
     },
     "execution_count": 58,
     "metadata": {},
     "output_type": "execute_result"
    }
   ],
   "source": [
    "tabla_completa2['gender'].unique()"
   ]
  },
  {
   "cell_type": "code",
   "execution_count": 59,
   "id": "788c731d",
   "metadata": {},
   "outputs": [],
   "source": [
    "tabla_completa2['Country'] = tabla_completa2['Country'].fillna('Spain')"
   ]
  },
  {
   "cell_type": "code",
   "execution_count": 60,
   "id": "59d9c943",
   "metadata": {},
   "outputs": [
    {
     "data": {
      "text/plain": [
       "array(['Spain'], dtype=object)"
      ]
     },
     "execution_count": 60,
     "metadata": {},
     "output_type": "execute_result"
    }
   ],
   "source": [
    "tabla_completa2['Country'].unique()"
   ]
  },
  {
   "cell_type": "code",
   "execution_count": 61,
   "id": "4665cb3c",
   "metadata": {},
   "outputs": [
    {
     "name": "stdout",
     "output_type": "stream",
     "text": [
      "<class 'pandas.core.frame.DataFrame'>\n",
      "RangeIndex: 10 entries, 0 to 9\n",
      "Data columns (total 16 columns):\n",
      " #   Column           Non-Null Count  Dtype  \n",
      "---  ------           --------------  -----  \n",
      " 0   first_name       10 non-null     object \n",
      " 1   last_name        10 non-null     object \n",
      " 2   email            10 non-null     object \n",
      " 3   gender           10 non-null     object \n",
      " 4   City             10 non-null     object \n",
      " 5   Country          10 non-null     object \n",
      " 6   Address          10 non-null     object \n",
      " 7   ID_Producto      10 non-null     object \n",
      " 8   Fecha_Venta      10 non-null     object \n",
      " 9   Cantidad         10 non-null     int64  \n",
      " 10  Total            10 non-null     float64\n",
      " 11  Nombre_Producto  10 non-null     object \n",
      " 12  Categoría        10 non-null     object \n",
      " 13  Precio           10 non-null     float64\n",
      " 14  Origen           10 non-null     object \n",
      " 15  Descripción      10 non-null     object \n",
      "dtypes: float64(2), int64(1), object(13)\n",
      "memory usage: 1.4+ KB\n"
     ]
    }
   ],
   "source": [
    "tabla_completa2.info()"
   ]
  }
 ],
 "metadata": {
  "kernelspec": {
   "display_name": "Promo_56",
   "language": "python",
   "name": "python3"
  },
  "language_info": {
   "codemirror_mode": {
    "name": "ipython",
    "version": 3
   },
   "file_extension": ".py",
   "mimetype": "text/x-python",
   "name": "python",
   "nbconvert_exporter": "python",
   "pygments_lexer": "ipython3",
   "version": "3.12.11"
  }
 },
 "nbformat": 4,
 "nbformat_minor": 5
}
