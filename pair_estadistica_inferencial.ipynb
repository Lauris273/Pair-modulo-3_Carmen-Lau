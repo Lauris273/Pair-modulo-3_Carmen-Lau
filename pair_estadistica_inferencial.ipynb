{
 "cells": [
  {
   "cell_type": "code",
   "execution_count": 2,
   "id": "d063a66f",
   "metadata": {},
   "outputs": [],
   "source": [
    "# importamos las librerías que necesitamos\n",
    "\n",
    "# Tratamiento de datos\n",
    "# -----------------------------------------------------------------------\n",
    "import pandas as pd\n",
    "import numpy as np\n",
    "\n",
    "# Visualización\n",
    "# ------------------------------------------------------------------------------\n",
    "import matplotlib.pyplot as plt\n",
    "import seaborn as sns\n",
    "\n",
    "# Evaluar linealidad de las relaciones entre las variables\n",
    "# y la distribución de las variables\n",
    "# ------------------------------------------------------------------------------\n",
    "#import scipy.stats as stats\n",
    "import scipy.stats as stats\n",
    "from scipy.stats import shapiro, poisson, chisquare, expon, kstest\n",
    "\n",
    "\n",
    "# Configuración\n",
    "# -----------------------------------------------------------------------\n",
    "pd.set_option('display.max_columns', None) # para poder visualizar todas las columnas de los DataFrames\n",
    "\n",
    "# Gestión de los warnings\n",
    "# -----------------------------------------------------------------------\n",
    "import warnings\n",
    "warnings.filterwarnings(\"ignore\")"
   ]
  },
  {
   "cell_type": "code",
   "execution_count": 3,
   "id": "e07d63c0",
   "metadata": {},
   "outputs": [
    {
     "data": {
      "text/html": [
       "<div>\n",
       "<style scoped>\n",
       "    .dataframe tbody tr th:only-of-type {\n",
       "        vertical-align: middle;\n",
       "    }\n",
       "\n",
       "    .dataframe tbody tr th {\n",
       "        vertical-align: top;\n",
       "    }\n",
       "\n",
       "    .dataframe thead th {\n",
       "        text-align: right;\n",
       "    }\n",
       "</style>\n",
       "<table border=\"1\" class=\"dataframe\">\n",
       "  <thead>\n",
       "    <tr style=\"text-align: right;\">\n",
       "      <th></th>\n",
       "      <th>country</th>\n",
       "      <th>density</th>\n",
       "      <th>abbreviation</th>\n",
       "      <th>agricultural_land</th>\n",
       "      <th>land_area</th>\n",
       "      <th>armed_forces_size</th>\n",
       "      <th>birth_rate</th>\n",
       "      <th>calling_code</th>\n",
       "      <th>capital/major_city</th>\n",
       "      <th>co2-emissions</th>\n",
       "      <th>cpi</th>\n",
       "      <th>cpi_change</th>\n",
       "      <th>currency-code</th>\n",
       "      <th>fertility_rate</th>\n",
       "      <th>forested_area</th>\n",
       "      <th>gasoline_price</th>\n",
       "      <th>gdp</th>\n",
       "      <th>gross_primary_education_enrollment</th>\n",
       "      <th>gross_tertiary_education_enrollment</th>\n",
       "      <th>infant_mortality</th>\n",
       "      <th>largest_city</th>\n",
       "      <th>life_expectancy</th>\n",
       "      <th>maternal_mortality_ratio</th>\n",
       "      <th>minimum_wage</th>\n",
       "      <th>official_language</th>\n",
       "      <th>out_of_pocket_health_expenditure</th>\n",
       "      <th>physicians_per_thousand</th>\n",
       "      <th>population</th>\n",
       "      <th>population_labor_force_participation</th>\n",
       "      <th>tax_revenue</th>\n",
       "      <th>total_tax_rate</th>\n",
       "      <th>unemployment_rate</th>\n",
       "      <th>urban_population</th>\n",
       "      <th>latitude</th>\n",
       "      <th>longitude</th>\n",
       "      <th>continent</th>\n",
       "    </tr>\n",
       "  </thead>\n",
       "  <tbody>\n",
       "    <tr>\n",
       "      <th>0</th>\n",
       "      <td>Afghanistan</td>\n",
       "      <td>60.0</td>\n",
       "      <td>AF</td>\n",
       "      <td>58.1</td>\n",
       "      <td>652.230</td>\n",
       "      <td>323.0</td>\n",
       "      <td>32.49</td>\n",
       "      <td>93.0</td>\n",
       "      <td>Kabul</td>\n",
       "      <td>8.672</td>\n",
       "      <td>149.90</td>\n",
       "      <td>2.3</td>\n",
       "      <td>AFN</td>\n",
       "      <td>4.47</td>\n",
       "      <td>2.1</td>\n",
       "      <td>0.70</td>\n",
       "      <td>1.910135e+10</td>\n",
       "      <td>104.0</td>\n",
       "      <td>9.7</td>\n",
       "      <td>47.9</td>\n",
       "      <td>Kabul</td>\n",
       "      <td>64.5</td>\n",
       "      <td>638.0</td>\n",
       "      <td>0.43</td>\n",
       "      <td>Pashto</td>\n",
       "      <td>78.4</td>\n",
       "      <td>0.28</td>\n",
       "      <td>NaN</td>\n",
       "      <td>48.9</td>\n",
       "      <td>9.3</td>\n",
       "      <td>71.4</td>\n",
       "      <td>11.12</td>\n",
       "      <td>NaN</td>\n",
       "      <td>33.939110</td>\n",
       "      <td>67.709953</td>\n",
       "      <td>Asia</td>\n",
       "    </tr>\n",
       "    <tr>\n",
       "      <th>1</th>\n",
       "      <td>Albania</td>\n",
       "      <td>105.0</td>\n",
       "      <td>AL</td>\n",
       "      <td>43.1</td>\n",
       "      <td>28.748</td>\n",
       "      <td>9.0</td>\n",
       "      <td>11.78</td>\n",
       "      <td>355.0</td>\n",
       "      <td>Tirana</td>\n",
       "      <td>4.536</td>\n",
       "      <td>119.05</td>\n",
       "      <td>1.4</td>\n",
       "      <td>ALL</td>\n",
       "      <td>1.62</td>\n",
       "      <td>28.1</td>\n",
       "      <td>1.36</td>\n",
       "      <td>1.527808e+10</td>\n",
       "      <td>107.0</td>\n",
       "      <td>55.0</td>\n",
       "      <td>7.8</td>\n",
       "      <td>Tirana</td>\n",
       "      <td>78.5</td>\n",
       "      <td>15.0</td>\n",
       "      <td>1.12</td>\n",
       "      <td>Albanian</td>\n",
       "      <td>56.9</td>\n",
       "      <td>1.20</td>\n",
       "      <td>NaN</td>\n",
       "      <td>55.7</td>\n",
       "      <td>18.6</td>\n",
       "      <td>36.6</td>\n",
       "      <td>12.33</td>\n",
       "      <td>NaN</td>\n",
       "      <td>41.153332</td>\n",
       "      <td>20.168331</td>\n",
       "      <td>Europe</td>\n",
       "    </tr>\n",
       "  </tbody>\n",
       "</table>\n",
       "</div>"
      ],
      "text/plain": [
       "       country  density abbreviation  agricultural_land  land_area  \\\n",
       "0  Afghanistan     60.0           AF               58.1    652.230   \n",
       "1      Albania    105.0           AL               43.1     28.748   \n",
       "\n",
       "   armed_forces_size  birth_rate  calling_code capital/major_city  \\\n",
       "0              323.0       32.49          93.0              Kabul   \n",
       "1                9.0       11.78         355.0             Tirana   \n",
       "\n",
       "   co2-emissions     cpi  cpi_change currency-code  fertility_rate  \\\n",
       "0          8.672  149.90         2.3           AFN            4.47   \n",
       "1          4.536  119.05         1.4           ALL            1.62   \n",
       "\n",
       "   forested_area  gasoline_price           gdp  \\\n",
       "0            2.1            0.70  1.910135e+10   \n",
       "1           28.1            1.36  1.527808e+10   \n",
       "\n",
       "   gross_primary_education_enrollment  gross_tertiary_education_enrollment  \\\n",
       "0                               104.0                                  9.7   \n",
       "1                               107.0                                 55.0   \n",
       "\n",
       "   infant_mortality largest_city  life_expectancy  maternal_mortality_ratio  \\\n",
       "0              47.9        Kabul             64.5                     638.0   \n",
       "1               7.8       Tirana             78.5                      15.0   \n",
       "\n",
       "   minimum_wage official_language  out_of_pocket_health_expenditure  \\\n",
       "0          0.43            Pashto                              78.4   \n",
       "1          1.12          Albanian                              56.9   \n",
       "\n",
       "   physicians_per_thousand  population  population_labor_force_participation  \\\n",
       "0                     0.28         NaN                                  48.9   \n",
       "1                     1.20         NaN                                  55.7   \n",
       "\n",
       "   tax_revenue  total_tax_rate  unemployment_rate  urban_population  \\\n",
       "0          9.3            71.4              11.12               NaN   \n",
       "1         18.6            36.6              12.33               NaN   \n",
       "\n",
       "    latitude  longitude continent  \n",
       "0  33.939110  67.709953      Asia  \n",
       "1  41.153332  20.168331    Europe  "
      ]
     },
     "execution_count": 3,
     "metadata": {},
     "output_type": "execute_result"
    }
   ],
   "source": [
    "df = pd.read_csv(\"world_data_full_apply_nulos.csv\", index_col = 0)\n",
    "df.head(2)"
   ]
  },
  {
   "cell_type": "markdown",
   "id": "efa4388d",
   "metadata": {},
   "source": [
    "1. Ejercicios intervalo de confianza. Al igual que en el caso del ejercicio de la clase, piensa un motivo por el que sería interesante calcular estos intervalos de confianza para la extracción de insights.\n",
    "\n",
    "- A. Intervalo de Confianza para la Esperanza de Vida. Contexto: Trabajas en una organización de salud global y deseas estimar el intervalo de confianza al 95% para la esperanza de vida promedio de cada continente. Nota: Cuidado porque puede que os salgan algunos nulos, genera un código para que no salgan nulos en los intervalos de confianza.\n"
   ]
  },
  {
   "cell_type": "code",
   "execution_count": null,
   "id": "1d31172b",
   "metadata": {},
   "outputs": [],
   "source": [
    "# intervalo para una columna:\n",
    "def intervalo_confianza(df, columna, nivel_confianza=0.95):\n",
    "    media = df[columna].mean()\n",
    "    error_estandar = stats.sem(df[columna])\n",
    "    grados_libertad = len(df[columna]) - 1\n",
    "    valor_critico = stats.t.ppf((1 + nivel_confianza) / 2, df=grados_libertad)\n",
    "    distancia = valor_critico * error_estandar\n",
    "    limite_inf = media - distancia\n",
    "    limite_sup = media + distancia\n",
    "    \n",
    "    print(f\"Nuestro intervalo de confianza para la columna '{columna}' es de {np.round(limite_inf, 2)} a {np.round(limite_sup, 2)} con un nivel de confianza de {nivel_confianza}\")\n",
    "    print(f\"La media es {media}\")\n",
    "    \n",
    "    return (limite_inf, limite_sup)"
   ]
  },
  {
   "cell_type": "code",
   "execution_count": 7,
   "id": "6e67e3ce",
   "metadata": {},
   "outputs": [
    {
     "name": "stdout",
     "output_type": "stream",
     "text": [
      "Nuestro intervalo de confianza para la columna 'density' es de 112.29 a 156.72 con un nivel de confianza de 0.95\n",
      "La media es 134.50453333333334\n"
     ]
    },
    {
     "data": {
      "text/plain": [
       "(np.float64(112.2869946320454), np.float64(156.72207203462128))"
      ]
     },
     "execution_count": 7,
     "metadata": {},
     "output_type": "execute_result"
    }
   ],
   "source": [
    "intervalo_confianza(df, 'density', nivel_confianza=0.95)"
   ]
  },
  {
   "cell_type": "code",
   "execution_count": 8,
   "id": "276e3887",
   "metadata": {},
   "outputs": [
    {
     "data": {
      "text/plain": [
       "Index(['country', 'density', 'abbreviation', 'agricultural_land', 'land_area',\n",
       "       'armed_forces_size', 'birth_rate', 'calling_code', 'capital/major_city',\n",
       "       'co2-emissions', 'cpi', 'cpi_change', 'currency-code', 'fertility_rate',\n",
       "       'forested_area', 'gasoline_price', 'gdp',\n",
       "       'gross_primary_education_enrollment',\n",
       "       'gross_tertiary_education_enrollment', 'infant_mortality',\n",
       "       'largest_city', 'life_expectancy', 'maternal_mortality_ratio',\n",
       "       'minimum_wage', 'official_language', 'out_of_pocket_health_expenditure',\n",
       "       'physicians_per_thousand', 'population',\n",
       "       'population_labor_force_participation', 'tax_revenue', 'total_tax_rate',\n",
       "       'unemployment_rate', 'urban_population', 'latitude', 'longitude',\n",
       "       'continent'],\n",
       "      dtype='object')"
      ]
     },
     "execution_count": 8,
     "metadata": {},
     "output_type": "execute_result"
    }
   ],
   "source": [
    "# esperanza de vida 'life_expectancy' promedio de cada continente 'continent'\n",
    "df.columns"
   ]
  },
  {
   "cell_type": "code",
   "execution_count": null,
   "id": "b5dbd778",
   "metadata": {},
   "outputs": [
    {
     "data": {
      "text/plain": [
       "continent\n",
       "Africa             63.725000\n",
       "Asia               73.781818\n",
       "Central America    74.690000\n",
       "Europe             79.202326\n",
       "North America      80.200000\n",
       "Oceania            71.125000\n",
       "South America      74.815385\n",
       "Name: life_expectancy, dtype: float64"
      ]
     },
     "execution_count": 10,
     "metadata": {},
     "output_type": "execute_result"
    }
   ],
   "source": [
    "df.groupby('continent')['life_expectancy'].mean()"
   ]
  },
  {
   "cell_type": "code",
   "execution_count": 35,
   "id": "b4cd9307",
   "metadata": {},
   "outputs": [],
   "source": [
    "# dropna: \"elimina\" los nulos en la nueva df, no cuenta con ellos para la revisión\n",
    "data = df.dropna(subset=['life_expectancy', 'continent'])"
   ]
  },
  {
   "cell_type": "code",
   "execution_count": null,
   "id": "994761f2",
   "metadata": {},
   "outputs": [],
   "source": [
    "# primera prueba del intervalo de 2 columnas. Sale pero no está en orden los prints, lo dejo para saber cómo hemos sacado el siguiente\n",
    "def intervalo_confianza(data, columna1, columna2, nivel_confianza=0.95):\n",
    "\n",
    "    medias_continentes = data.groupby(columna1)[columna2].mean()\n",
    "    for cont in medias_continentes:\n",
    "        error_estandar = stats.sem(data[columna2])\n",
    "        grados_libertad = len(data[columna2]) - 1\n",
    "        valor_critico = stats.t.ppf((1 + nivel_confianza) / 2, df=grados_libertad)\n",
    "        distancia = valor_critico * error_estandar\n",
    "        limite_inf = medias_continentes - distancia\n",
    "        limite_sup = medias_continentes + distancia\n",
    "        \n",
    "        print(f\"Para el continente {cont} tenemos:\")\n",
    "        print(f\"Nuestro intervalo de confianza para la columna '{columna2}' es de {np.round(limite_inf, 2)} a {np.round(limite_sup, 2)} con un nivel de confianza de {nivel_confianza}\")\n",
    "        print(f\"La media es {medias_continentes}\")\n",
    "        \n",
    "        return (limite_inf, limite_sup)"
   ]
  },
  {
   "cell_type": "code",
   "execution_count": 27,
   "id": "03958328",
   "metadata": {},
   "outputs": [
    {
     "name": "stdout",
     "output_type": "stream",
     "text": [
      "Para el continente 63.724999999999994 tenemos:\n",
      "Nuestro intervalo de confianza para la columna 'life_expectancy' es de continent\n",
      "Africa             62.65\n",
      "Asia               72.70\n",
      "Central America    73.61\n",
      "Europe             78.12\n",
      "North America      79.12\n",
      "Oceania            70.05\n",
      "South America      73.74\n",
      "Name: life_expectancy, dtype: float64 a continent\n",
      "Africa             64.80\n",
      "Asia               74.86\n",
      "Central America    75.77\n",
      "Europe             80.28\n",
      "North America      81.28\n",
      "Oceania            72.20\n",
      "South America      75.90\n",
      "Name: life_expectancy, dtype: float64 con un nivel de confianza de 0.95\n",
      "La media es continent\n",
      "Africa             63.725000\n",
      "Asia               73.781818\n",
      "Central America    74.690000\n",
      "Europe             79.202326\n",
      "North America      80.200000\n",
      "Oceania            71.125000\n",
      "South America      74.815385\n",
      "Name: life_expectancy, dtype: float64\n"
     ]
    },
    {
     "data": {
      "text/plain": [
       "(continent\n",
       " Africa             62.645366\n",
       " Asia               72.702185\n",
       " Central America    73.610366\n",
       " Europe             78.122692\n",
       " North America      79.120366\n",
       " Oceania            70.045366\n",
       " South America      73.735751\n",
       " Name: life_expectancy, dtype: float64,\n",
       " continent\n",
       " Africa             64.804634\n",
       " Asia               74.861452\n",
       " Central America    75.769634\n",
       " Europe             80.281959\n",
       " North America      81.279634\n",
       " Oceania            72.204634\n",
       " South America      75.895018\n",
       " Name: life_expectancy, dtype: float64)"
      ]
     },
     "execution_count": 27,
     "metadata": {},
     "output_type": "execute_result"
    }
   ],
   "source": [
    "intervalo_confianza(data, 'continent','life_expectancy', nivel_confianza=0.95)"
   ]
  },
  {
   "cell_type": "code",
   "execution_count": null,
   "id": "7b832849",
   "metadata": {},
   "outputs": [],
   "source": [
    "# ESTE ES EL BUENO!\n",
    "def intervalo_confianza_esperanza_vida(data, columna1, columna2, nivel_confianza=0.95):\n",
    "    continentes = sorted(data[columna1].unique())  # Ordenar alfabéticamente los contienentes\n",
    "    \n",
    "    for cont in continentes:\n",
    "        subset = data[data[columna1] == cont][columna2] # Subset: hace una agrupación por cada contienente\n",
    "        media = subset.mean()\n",
    "        error_estandar = stats.sem(subset)\n",
    "        grados_libertad = len(subset) - 1\n",
    "        \n",
    "        valor_critico = stats.t.ppf((1 + nivel_confianza) / 2, df=grados_libertad)\n",
    "        distancia = valor_critico * error_estandar\n",
    "        limite_inf = media - distancia\n",
    "        limite_sup = media + distancia\n",
    "        \n",
    "        print(f\"🌍 Para el continente '{cont}':\")\n",
    "        print(f\"   Media de '{columna2}': {np.round(media, 2)}\")\n",
    "        print(f\"   Intervalo de confianza: [{np.round(limite_inf, 2)}, {np.round(limite_sup, 2)}] con un nivel de confianza de {nivel_confianza}\")\n",
    "        print(\"-\" * 60)"
   ]
  },
  {
   "cell_type": "code",
   "execution_count": 39,
   "id": "8817ea7f",
   "metadata": {},
   "outputs": [
    {
     "name": "stdout",
     "output_type": "stream",
     "text": [
      "🌍 Para el continente 'Africa':\n",
      "   Media de 'life_expectancy': 63.72\n",
      "   Intervalo de confianza: [62.05, 65.4] con un nivel de confianza de 0.95\n",
      "------------------------------------------------------------\n",
      "🌍 Para el continente 'Asia':\n",
      "   Media de 'life_expectancy': 73.78\n",
      "   Intervalo de confianza: [72.32, 75.24] con un nivel de confianza de 0.95\n",
      "------------------------------------------------------------\n",
      "🌍 Para el continente 'Central America':\n",
      "   Media de 'life_expectancy': 74.69\n",
      "   Intervalo de confianza: [73.04, 76.34] con un nivel de confianza de 0.95\n",
      "------------------------------------------------------------\n",
      "🌍 Para el continente 'Europe':\n",
      "   Media de 'life_expectancy': 79.2\n",
      "   Intervalo de confianza: [78.09, 80.32] con un nivel de confianza de 0.95\n",
      "------------------------------------------------------------\n",
      "🌍 Para el continente 'North America':\n",
      "   Media de 'life_expectancy': 80.2\n",
      "   Intervalo de confianza: [58.6, 101.8] con un nivel de confianza de 0.95\n",
      "------------------------------------------------------------\n",
      "🌍 Para el continente 'Oceania':\n",
      "   Media de 'life_expectancy': 71.12\n",
      "   Intervalo de confianza: [67.4, 74.85] con un nivel de confianza de 0.95\n",
      "------------------------------------------------------------\n",
      "🌍 Para el continente 'South America':\n",
      "   Media de 'life_expectancy': 74.82\n",
      "   Intervalo de confianza: [72.99, 76.64] con un nivel de confianza de 0.95\n",
      "------------------------------------------------------------\n"
     ]
    }
   ],
   "source": [
    "intervalo_confianza_esperanza_vida(data, 'continent','life_expectancy', nivel_confianza=0.95)"
   ]
  },
  {
   "cell_type": "markdown",
   "id": "efb7dbc5",
   "metadata": {},
   "source": [
    "1. Ejercicios intervalo de confianza:\n",
    "- B. Intervalo de Confianza para el PIB. Contexto: Eres una economista y quieres calcular el intervalo de confianza al 90% para el Producto Interno Bruto (PIB) de los continentes."
   ]
  },
  {
   "cell_type": "code",
   "execution_count": 45,
   "id": "d5d9047c",
   "metadata": {},
   "outputs": [
    {
     "data": {
      "text/plain": [
       "continent\n",
       "Africa             4.608056e+10\n",
       "Asia               8.371953e+11\n",
       "Central America    8.847993e+10\n",
       "Europe             4.867482e+11\n",
       "North America      1.158206e+13\n",
       "Oceania            1.167886e+11\n",
       "South America      2.984337e+11\n",
       "Name: gdp, dtype: float64"
      ]
     },
     "execution_count": 45,
     "metadata": {},
     "output_type": "execute_result"
    }
   ],
   "source": [
    "df.groupby('continent')['gdp'].mean()"
   ]
  },
  {
   "cell_type": "code",
   "execution_count": 40,
   "id": "e65e06bc",
   "metadata": {},
   "outputs": [],
   "source": [
    "def intervalo_confianza_PIB(data, columna1, columna2, nivel_confianza=0.90):\n",
    "    continentes = sorted(data[columna1].unique())  # Ordenar alfabéticamente los contienentes\n",
    "    \n",
    "    for cont in continentes:\n",
    "        subset = data[data[columna1] == cont][columna2] # Subset: hace una agrupación por cada contienente\n",
    "        media = subset.mean()\n",
    "        error_estandar = stats.sem(subset)\n",
    "        grados_libertad = len(subset) - 1\n",
    "        \n",
    "        valor_critico = stats.t.ppf((1 + nivel_confianza) / 2, df=grados_libertad)\n",
    "        distancia = valor_critico * error_estandar\n",
    "        limite_inf = media - distancia\n",
    "        limite_sup = media + distancia\n",
    "        \n",
    "        print(f\"🌍 Para el continente '{cont}':\")\n",
    "        print(f\"   Media de '{columna2}': {np.round(media, 2)}\")\n",
    "        print(f\"   Intervalo de confianza: [{np.round(limite_inf, 2)}, {np.round(limite_sup, 2)}] con un nivel de confianza de {nivel_confianza}\")\n",
    "        print(\"-\" * 60)"
   ]
  },
  {
   "cell_type": "code",
   "execution_count": 42,
   "id": "36133929",
   "metadata": {},
   "outputs": [
    {
     "name": "stdout",
     "output_type": "stream",
     "text": [
      "🌍 Para el continente 'Africa':\n",
      "   Media de 'gdp': 46893814043.79\n",
      "   Intervalo de confianza: [26357148610.54, 67430479477.03] con un nivel de confianza de 0.9\n",
      "------------------------------------------------------------\n",
      "🌍 Para el continente 'Asia':\n",
      "   Media de 'gdp': 837195265650.86\n",
      "   Intervalo de confianza: [58578264502.59, 1615812266799.14] con un nivel de confianza de 0.9\n",
      "------------------------------------------------------------\n",
      "🌍 Para el continente 'Central America':\n",
      "   Media de 'gdp': 88479927703.1\n",
      "   Intervalo de confianza: [-18731287288.44, 195691142694.64] con un nivel de confianza de 0.9\n",
      "------------------------------------------------------------\n",
      "🌍 Para el continente 'Europe':\n",
      "   Media de 'gdp': 520229234203.4\n",
      "   Intervalo de confianza: [299218033686.15, 741240434720.64] con un nivel de confianza de 0.9\n",
      "------------------------------------------------------------\n",
      "🌍 Para el continente 'North America':\n",
      "   Media de 'gdp': 11582062814760.0\n",
      "   Intervalo de confianza: [-50580843877729.44, 73744969507249.44] con un nivel de confianza de 0.9\n",
      "------------------------------------------------------------\n",
      "🌍 Para el continente 'Oceania':\n",
      "   Media de 'gdp': 136238292422.42\n",
      "   Intervalo de confianza: [-71150681327.02, 343627266171.86] con un nivel de confianza de 0.9\n",
      "------------------------------------------------------------\n",
      "🌍 Para el continente 'South America':\n",
      "   Media de 'gdp': 298433685548.77\n",
      "   Intervalo de confianza: [54751277700.89, 542116093396.64] con un nivel de confianza de 0.9\n",
      "------------------------------------------------------------\n"
     ]
    }
   ],
   "source": [
    "intervalo_confianza_PIB(data, 'continent','gdp', nivel_confianza=0.90)"
   ]
  }
 ],
 "metadata": {
  "kernelspec": {
   "display_name": "Promo_56",
   "language": "python",
   "name": "python3"
  },
  "language_info": {
   "codemirror_mode": {
    "name": "ipython",
    "version": 3
   },
   "file_extension": ".py",
   "mimetype": "text/x-python",
   "name": "python",
   "nbconvert_exporter": "python",
   "pygments_lexer": "ipython3",
   "version": "3.12.11"
  }
 },
 "nbformat": 4,
 "nbformat_minor": 5
}
